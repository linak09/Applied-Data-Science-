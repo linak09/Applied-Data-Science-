{
 "cells": [
  {
   "cell_type": "markdown",
   "metadata": {},
   "source": [
    "# Homework Session 11 Neural networks"
   ]
  },
  {
   "cell_type": "markdown",
   "metadata": {},
   "source": [
    "## Part 1"
   ]
  },
  {
   "cell_type": "markdown",
   "metadata": {},
   "source": [
    "The purpose of the below is to classify days over years 2017-2018 by their corresponding mobility patterns between 10 zones in Taipei (quantified by an aggregated temporal network of subway ridership flows across the city)"
   ]
  },
  {
   "cell_type": "code",
   "execution_count": 38,
   "metadata": {},
   "outputs": [],
   "source": [
    "import numpy as np\n",
    "import pandas as pd\n",
    "import keras\n",
    "from keras.datasets import mnist\n",
    "from keras.models import Model, Sequential\n",
    "from keras.layers import Input, Dense\n",
    "from keras.utils import np_utils\n",
    "from sklearn.model_selection import train_test_split\n",
    "from keras.layers import Dropout\n",
    "from keras.layers import Flatten\n",
    "from keras.layers.convolutional import Conv2D\n",
    "from keras.layers.convolutional import MaxPooling2D\n",
    "from sklearn.preprocessing import MinMaxScaler\n",
    "from keras.utils import np_utils\n",
    "from keras import backend as K\n",
    "from sklearn.metrics import accuracy_score\n",
    "from sklearn.metrics import confusion_matrix\n",
    "from sklearn.metrics import classification_report\n",
    "\n",
    "import numpy as np\n",
    "from nltk.tokenize import RegexpTokenizer\n",
    "from keras.models import Sequential, load_model\n",
    "from keras.layers import LSTM\n",
    "from keras.layers.core import Dense, Activation\n",
    "from keras.optimizers import RMSprop\n",
    "from sklearn.model_selection import train_test_split\n",
    "import matplotlib.pyplot as plt\n",
    "import pickle\n",
    "import heapq"
   ]
  },
  {
   "cell_type": "code",
   "execution_count": 39,
   "metadata": {},
   "outputs": [],
   "source": [
    "#read the data\n",
    "TNet=pd.read_csv('https://raw.githubusercontent.com/CUSP2021ADS/Data/main/taipeiD_TNet2.csv',header=None);"
   ]
  },
  {
   "cell_type": "code",
   "execution_count": 40,
   "metadata": {},
   "outputs": [
    {
     "data": {
      "text/html": [
       "<div>\n",
       "<style scoped>\n",
       "    .dataframe tbody tr th:only-of-type {\n",
       "        vertical-align: middle;\n",
       "    }\n",
       "\n",
       "    .dataframe tbody tr th {\n",
       "        vertical-align: top;\n",
       "    }\n",
       "\n",
       "    .dataframe thead th {\n",
       "        text-align: right;\n",
       "    }\n",
       "</style>\n",
       "<table border=\"1\" class=\"dataframe\">\n",
       "  <thead>\n",
       "    <tr style=\"text-align: right;\">\n",
       "      <th></th>\n",
       "      <th>0</th>\n",
       "      <th>1</th>\n",
       "      <th>2</th>\n",
       "      <th>3</th>\n",
       "      <th>4</th>\n",
       "      <th>5</th>\n",
       "      <th>6</th>\n",
       "      <th>7</th>\n",
       "      <th>8</th>\n",
       "      <th>9</th>\n",
       "      <th>...</th>\n",
       "      <th>90</th>\n",
       "      <th>91</th>\n",
       "      <th>92</th>\n",
       "      <th>93</th>\n",
       "      <th>94</th>\n",
       "      <th>95</th>\n",
       "      <th>96</th>\n",
       "      <th>97</th>\n",
       "      <th>98</th>\n",
       "      <th>99</th>\n",
       "    </tr>\n",
       "  </thead>\n",
       "  <tbody>\n",
       "    <tr>\n",
       "      <th>0</th>\n",
       "      <td>0.017943</td>\n",
       "      <td>0.005415</td>\n",
       "      <td>0.003590</td>\n",
       "      <td>0.008316</td>\n",
       "      <td>0.007859</td>\n",
       "      <td>0.012942</td>\n",
       "      <td>0.012196</td>\n",
       "      <td>0.019543</td>\n",
       "      <td>0.001196</td>\n",
       "      <td>0.003327</td>\n",
       "      <td>...</td>\n",
       "      <td>0.002529</td>\n",
       "      <td>0.001533</td>\n",
       "      <td>0.001860</td>\n",
       "      <td>0.002375</td>\n",
       "      <td>0.005408</td>\n",
       "      <td>0.008922</td>\n",
       "      <td>0.003945</td>\n",
       "      <td>0.011075</td>\n",
       "      <td>0.005073</td>\n",
       "      <td>0.012708</td>\n",
       "    </tr>\n",
       "    <tr>\n",
       "      <th>1</th>\n",
       "      <td>0.021283</td>\n",
       "      <td>0.005215</td>\n",
       "      <td>0.003530</td>\n",
       "      <td>0.009359</td>\n",
       "      <td>0.007803</td>\n",
       "      <td>0.014288</td>\n",
       "      <td>0.011185</td>\n",
       "      <td>0.019044</td>\n",
       "      <td>0.001382</td>\n",
       "      <td>0.003499</td>\n",
       "      <td>...</td>\n",
       "      <td>0.002803</td>\n",
       "      <td>0.001757</td>\n",
       "      <td>0.001783</td>\n",
       "      <td>0.002549</td>\n",
       "      <td>0.005515</td>\n",
       "      <td>0.009650</td>\n",
       "      <td>0.003596</td>\n",
       "      <td>0.009618</td>\n",
       "      <td>0.005946</td>\n",
       "      <td>0.013709</td>\n",
       "    </tr>\n",
       "    <tr>\n",
       "      <th>2</th>\n",
       "      <td>0.028988</td>\n",
       "      <td>0.006511</td>\n",
       "      <td>0.005591</td>\n",
       "      <td>0.012970</td>\n",
       "      <td>0.007816</td>\n",
       "      <td>0.015878</td>\n",
       "      <td>0.010973</td>\n",
       "      <td>0.015768</td>\n",
       "      <td>0.002252</td>\n",
       "      <td>0.005388</td>\n",
       "      <td>...</td>\n",
       "      <td>0.004649</td>\n",
       "      <td>0.002555</td>\n",
       "      <td>0.002672</td>\n",
       "      <td>0.004291</td>\n",
       "      <td>0.007385</td>\n",
       "      <td>0.009558</td>\n",
       "      <td>0.004293</td>\n",
       "      <td>0.008791</td>\n",
       "      <td>0.010040</td>\n",
       "      <td>0.016301</td>\n",
       "    </tr>\n",
       "    <tr>\n",
       "      <th>3</th>\n",
       "      <td>0.029534</td>\n",
       "      <td>0.006471</td>\n",
       "      <td>0.005615</td>\n",
       "      <td>0.013017</td>\n",
       "      <td>0.007717</td>\n",
       "      <td>0.016098</td>\n",
       "      <td>0.011182</td>\n",
       "      <td>0.015815</td>\n",
       "      <td>0.002325</td>\n",
       "      <td>0.005443</td>\n",
       "      <td>...</td>\n",
       "      <td>0.004611</td>\n",
       "      <td>0.002473</td>\n",
       "      <td>0.002636</td>\n",
       "      <td>0.004195</td>\n",
       "      <td>0.007255</td>\n",
       "      <td>0.009487</td>\n",
       "      <td>0.004316</td>\n",
       "      <td>0.008729</td>\n",
       "      <td>0.010296</td>\n",
       "      <td>0.016437</td>\n",
       "    </tr>\n",
       "    <tr>\n",
       "      <th>4</th>\n",
       "      <td>0.029333</td>\n",
       "      <td>0.006525</td>\n",
       "      <td>0.005727</td>\n",
       "      <td>0.013098</td>\n",
       "      <td>0.007692</td>\n",
       "      <td>0.016358</td>\n",
       "      <td>0.011000</td>\n",
       "      <td>0.015677</td>\n",
       "      <td>0.002344</td>\n",
       "      <td>0.005527</td>\n",
       "      <td>...</td>\n",
       "      <td>0.004694</td>\n",
       "      <td>0.002515</td>\n",
       "      <td>0.002677</td>\n",
       "      <td>0.004222</td>\n",
       "      <td>0.007269</td>\n",
       "      <td>0.009921</td>\n",
       "      <td>0.004387</td>\n",
       "      <td>0.008923</td>\n",
       "      <td>0.010381</td>\n",
       "      <td>0.016914</td>\n",
       "    </tr>\n",
       "  </tbody>\n",
       "</table>\n",
       "<p>5 rows × 100 columns</p>\n",
       "</div>"
      ],
      "text/plain": [
       "         0         1         2         3         4         5         6   \\\n",
       "0  0.017943  0.005415  0.003590  0.008316  0.007859  0.012942  0.012196   \n",
       "1  0.021283  0.005215  0.003530  0.009359  0.007803  0.014288  0.011185   \n",
       "2  0.028988  0.006511  0.005591  0.012970  0.007816  0.015878  0.010973   \n",
       "3  0.029534  0.006471  0.005615  0.013017  0.007717  0.016098  0.011182   \n",
       "4  0.029333  0.006525  0.005727  0.013098  0.007692  0.016358  0.011000   \n",
       "\n",
       "         7         8         9   ...        90        91        92        93  \\\n",
       "0  0.019543  0.001196  0.003327  ...  0.002529  0.001533  0.001860  0.002375   \n",
       "1  0.019044  0.001382  0.003499  ...  0.002803  0.001757  0.001783  0.002549   \n",
       "2  0.015768  0.002252  0.005388  ...  0.004649  0.002555  0.002672  0.004291   \n",
       "3  0.015815  0.002325  0.005443  ...  0.004611  0.002473  0.002636  0.004195   \n",
       "4  0.015677  0.002344  0.005527  ...  0.004694  0.002515  0.002677  0.004222   \n",
       "\n",
       "         94        95        96        97        98        99  \n",
       "0  0.005408  0.008922  0.003945  0.011075  0.005073  0.012708  \n",
       "1  0.005515  0.009650  0.003596  0.009618  0.005946  0.013709  \n",
       "2  0.007385  0.009558  0.004293  0.008791  0.010040  0.016301  \n",
       "3  0.007255  0.009487  0.004316  0.008729  0.010296  0.016437  \n",
       "4  0.007269  0.009921  0.004387  0.008923  0.010381  0.016914  \n",
       "\n",
       "[5 rows x 100 columns]"
      ]
     },
     "execution_count": 40,
     "metadata": {},
     "output_type": "execute_result"
    }
   ],
   "source": [
    "TNet.head() \n",
    "#each row represents a 10x10 adjacency matrix of the normalized Taipei subway mobility network between 10 zones flattened into a 100x1 row corresponding to a single day\n",
    "#days start at jan-1-2017"
   ]
  },
  {
   "cell_type": "code",
   "execution_count": 41,
   "metadata": {},
   "outputs": [],
   "source": [
    "#convert to an array and scale the data\n",
    "X=np.array(TNet);"
   ]
  },
  {
   "cell_type": "code",
   "execution_count": 42,
   "metadata": {},
   "outputs": [],
   "source": [
    "X=MinMaxScaler(feature_range=(0, 1), copy=True).fit_transform(X)"
   ]
  },
  {
   "cell_type": "code",
   "execution_count": 43,
   "metadata": {},
   "outputs": [
    {
     "data": {
      "text/plain": [
       "(669, 100)"
      ]
     },
     "execution_count": 43,
     "metadata": {},
     "output_type": "execute_result"
    }
   ],
   "source": [
    "X.shape"
   ]
  },
  {
   "cell_type": "code",
   "execution_count": 44,
   "metadata": {},
   "outputs": [
    {
     "data": {
      "text/plain": [
       "array([0, 1, 2, 3, 4, 5, 6, 0, 1, 2])"
      ]
     },
     "execution_count": 44,
     "metadata": {},
     "output_type": "execute_result"
    }
   ],
   "source": [
    "#define day of the week corresponding to each day of observation; 0-Sunday, 1-Monday,...,6-Saturday\n",
    "y=np.array(range(669))%7; y[:10]"
   ]
  },
  {
   "cell_type": "code",
   "execution_count": 45,
   "metadata": {},
   "outputs": [
    {
     "data": {
      "text/plain": [
       "array([[1., 0., 0., 0., 0., 0., 0.],\n",
       "       [0., 1., 0., 0., 0., 0., 0.],\n",
       "       [0., 0., 1., 0., 0., 0., 0.],\n",
       "       [0., 0., 0., 1., 0., 0., 0.],\n",
       "       [0., 0., 0., 0., 1., 0., 0.]], dtype=float32)"
      ]
     },
     "execution_count": 45,
     "metadata": {},
     "output_type": "execute_result"
    }
   ],
   "source": [
    "yc=np_utils.to_categorical(y) #get categorical binary variables isSunday, isMonday,...\n",
    "yc[:5]"
   ]
  },
  {
   "cell_type": "code",
   "execution_count": 46,
   "metadata": {},
   "outputs": [],
   "source": [
    "X_test=X[400:,:]; X_train=X[:400,:]; #split the data into training and test\n",
    "y_test=yc[400:,:]; y_train=yc[:400,:]"
   ]
  },
  {
   "cell_type": "markdown",
   "metadata": {},
   "source": [
    "## Task 1. Classify weekdays/weekends\n",
    "Label the rows with ones for weekends, zeros for weekdays.\n",
    "Train a neural network with 4 layers of 30,10,3 and 1 (output) neurons over the training sample against this label, evaluating its performance over the test sample. Report the acheived accuracy (categorical) over the test sample\n",
    "\n",
    "First three layers use relu activation function, last one - sigmoid.\n",
    "Use loss='binary_crossentropy', optimizer='adam', 100 epochs, batch_size=20. "
   ]
  },
  {
   "cell_type": "code",
   "execution_count": 47,
   "metadata": {},
   "outputs": [
    {
     "data": {
      "text/plain": [
       "(400,)"
      ]
     },
     "execution_count": 47,
     "metadata": {},
     "output_type": "execute_result"
    }
   ],
   "source": [
    "def ConvertWeekend(lst):\n",
    "    Y_weekend = []\n",
    "    for i in lst:\n",
    "        if i[0] == 1 or i[6] == 1:\n",
    "            Y_weekend.append(1)\n",
    "        else:\n",
    "            Y_weekend.append(0)\n",
    "    Y_weekend = np.asarray(Y_weekend)\n",
    "    return Y_weekend\n",
    "Y_wkd_train = ConvertWeekend(y_train)\n",
    "Y_wkd_train.shape"
   ]
  },
  {
   "cell_type": "code",
   "execution_count": 48,
   "metadata": {},
   "outputs": [],
   "source": [
    "dim = X_train.shape[1]"
   ]
  },
  {
   "cell_type": "code",
   "execution_count": 49,
   "metadata": {},
   "outputs": [
    {
     "data": {
      "text/plain": [
       "(269,)"
      ]
     },
     "execution_count": 49,
     "metadata": {},
     "output_type": "execute_result"
    }
   ],
   "source": [
    "Y_wkd_test = ConvertWeekend(y_test)\n",
    "Y_wkd_test.shape"
   ]
  },
  {
   "cell_type": "code",
   "execution_count": 50,
   "metadata": {},
   "outputs": [
    {
     "name": "stdout",
     "output_type": "stream",
     "text": [
      "Epoch 1/100\n",
      "20/20 - 1s - loss: 0.5836 - accuracy: 0.6650 - val_loss: 0.4780 - val_accuracy: 0.7286\n",
      "Epoch 2/100\n",
      "20/20 - 0s - loss: 0.4130 - accuracy: 0.7200 - val_loss: 0.3373 - val_accuracy: 0.7584\n",
      "Epoch 3/100\n",
      "20/20 - 0s - loss: 0.2822 - accuracy: 0.8825 - val_loss: 0.2066 - val_accuracy: 0.9554\n",
      "Epoch 4/100\n",
      "20/20 - 0s - loss: 0.1788 - accuracy: 0.9550 - val_loss: 0.1475 - val_accuracy: 0.9554\n",
      "Epoch 5/100\n",
      "20/20 - 0s - loss: 0.1429 - accuracy: 0.9550 - val_loss: 0.1273 - val_accuracy: 0.9554\n",
      "Epoch 6/100\n",
      "20/20 - 0s - loss: 0.1289 - accuracy: 0.9550 - val_loss: 0.1218 - val_accuracy: 0.9554\n",
      "Epoch 7/100\n",
      "20/20 - 0s - loss: 0.1210 - accuracy: 0.9550 - val_loss: 0.1148 - val_accuracy: 0.9591\n",
      "Epoch 8/100\n",
      "20/20 - 0s - loss: 0.1158 - accuracy: 0.9575 - val_loss: 0.1128 - val_accuracy: 0.9554\n",
      "Epoch 9/100\n",
      "20/20 - 0s - loss: 0.1126 - accuracy: 0.9600 - val_loss: 0.1113 - val_accuracy: 0.9591\n",
      "Epoch 10/100\n",
      "20/20 - 0s - loss: 0.1044 - accuracy: 0.9525 - val_loss: 0.1078 - val_accuracy: 0.9628\n",
      "Epoch 11/100\n",
      "20/20 - 0s - loss: 0.0971 - accuracy: 0.9625 - val_loss: 0.1050 - val_accuracy: 0.9591\n",
      "Epoch 12/100\n",
      "20/20 - 0s - loss: 0.0937 - accuracy: 0.9625 - val_loss: 0.1018 - val_accuracy: 0.9628\n",
      "Epoch 13/100\n",
      "20/20 - 0s - loss: 0.0844 - accuracy: 0.9600 - val_loss: 0.0942 - val_accuracy: 0.9517\n",
      "Epoch 14/100\n",
      "20/20 - 0s - loss: 0.0818 - accuracy: 0.9675 - val_loss: 0.0937 - val_accuracy: 0.9517\n",
      "Epoch 15/100\n",
      "20/20 - 0s - loss: 0.0756 - accuracy: 0.9650 - val_loss: 0.0895 - val_accuracy: 0.9554\n",
      "Epoch 16/100\n",
      "20/20 - 0s - loss: 0.0696 - accuracy: 0.9725 - val_loss: 0.0888 - val_accuracy: 0.9628\n",
      "Epoch 17/100\n",
      "20/20 - 0s - loss: 0.0668 - accuracy: 0.9700 - val_loss: 0.0883 - val_accuracy: 0.9665\n",
      "Epoch 18/100\n",
      "20/20 - 0s - loss: 0.0638 - accuracy: 0.9775 - val_loss: 0.0855 - val_accuracy: 0.9665\n",
      "Epoch 19/100\n",
      "20/20 - 0s - loss: 0.0608 - accuracy: 0.9750 - val_loss: 0.0853 - val_accuracy: 0.9665\n",
      "Epoch 20/100\n",
      "20/20 - 0s - loss: 0.0564 - accuracy: 0.9775 - val_loss: 0.0836 - val_accuracy: 0.9665\n",
      "Epoch 21/100\n",
      "20/20 - 0s - loss: 0.0551 - accuracy: 0.9775 - val_loss: 0.0882 - val_accuracy: 0.9628\n",
      "Epoch 22/100\n",
      "20/20 - 0s - loss: 0.0536 - accuracy: 0.9750 - val_loss: 0.0836 - val_accuracy: 0.9665\n",
      "Epoch 23/100\n",
      "20/20 - 0s - loss: 0.0522 - accuracy: 0.9800 - val_loss: 0.0823 - val_accuracy: 0.9665\n",
      "Epoch 24/100\n",
      "20/20 - 0s - loss: 0.0470 - accuracy: 0.9850 - val_loss: 0.0852 - val_accuracy: 0.9628\n",
      "Epoch 25/100\n",
      "20/20 - 0s - loss: 0.0464 - accuracy: 0.9825 - val_loss: 0.0845 - val_accuracy: 0.9665\n",
      "Epoch 26/100\n",
      "20/20 - 0s - loss: 0.0462 - accuracy: 0.9850 - val_loss: 0.0828 - val_accuracy: 0.9665\n",
      "Epoch 27/100\n",
      "20/20 - 0s - loss: 0.0508 - accuracy: 0.9850 - val_loss: 0.0912 - val_accuracy: 0.9628\n",
      "Epoch 28/100\n",
      "20/20 - 0s - loss: 0.0413 - accuracy: 0.9875 - val_loss: 0.0814 - val_accuracy: 0.9628\n",
      "Epoch 29/100\n",
      "20/20 - 0s - loss: 0.0436 - accuracy: 0.9800 - val_loss: 0.0942 - val_accuracy: 0.9703\n",
      "Epoch 30/100\n",
      "20/20 - 0s - loss: 0.0413 - accuracy: 0.9900 - val_loss: 0.0813 - val_accuracy: 0.9628\n",
      "Epoch 31/100\n",
      "20/20 - 0s - loss: 0.0358 - accuracy: 0.9875 - val_loss: 0.0918 - val_accuracy: 0.9665\n",
      "Epoch 32/100\n",
      "20/20 - 0s - loss: 0.0447 - accuracy: 0.9900 - val_loss: 0.0809 - val_accuracy: 0.9665\n",
      "Epoch 33/100\n",
      "20/20 - 0s - loss: 0.0426 - accuracy: 0.9850 - val_loss: 0.0809 - val_accuracy: 0.9628\n",
      "Epoch 34/100\n",
      "20/20 - 0s - loss: 0.0383 - accuracy: 0.9900 - val_loss: 0.0929 - val_accuracy: 0.9665\n",
      "Epoch 35/100\n",
      "20/20 - 0s - loss: 0.0319 - accuracy: 0.9925 - val_loss: 0.0805 - val_accuracy: 0.9628\n",
      "Epoch 36/100\n",
      "20/20 - 0s - loss: 0.0321 - accuracy: 0.9900 - val_loss: 0.0842 - val_accuracy: 0.9665\n",
      "Epoch 37/100\n",
      "20/20 - 0s - loss: 0.0278 - accuracy: 0.9900 - val_loss: 0.0817 - val_accuracy: 0.9628\n",
      "Epoch 38/100\n",
      "20/20 - 0s - loss: 0.0324 - accuracy: 0.9875 - val_loss: 0.0839 - val_accuracy: 0.9665\n",
      "Epoch 39/100\n",
      "20/20 - 0s - loss: 0.0270 - accuracy: 0.9900 - val_loss: 0.0859 - val_accuracy: 0.9665\n",
      "Epoch 40/100\n",
      "20/20 - 0s - loss: 0.0271 - accuracy: 0.9950 - val_loss: 0.0816 - val_accuracy: 0.9628\n",
      "Epoch 41/100\n",
      "20/20 - 0s - loss: 0.0243 - accuracy: 0.9900 - val_loss: 0.0859 - val_accuracy: 0.9665\n",
      "Epoch 42/100\n",
      "20/20 - 0s - loss: 0.0275 - accuracy: 0.9900 - val_loss: 0.0986 - val_accuracy: 0.9665\n",
      "Epoch 43/100\n",
      "20/20 - 0s - loss: 0.0247 - accuracy: 0.9925 - val_loss: 0.0852 - val_accuracy: 0.9628\n",
      "Epoch 44/100\n",
      "20/20 - 0s - loss: 0.0226 - accuracy: 0.9900 - val_loss: 0.0938 - val_accuracy: 0.9665\n",
      "Epoch 45/100\n",
      "20/20 - 0s - loss: 0.0260 - accuracy: 0.9925 - val_loss: 0.0832 - val_accuracy: 0.9665\n",
      "Epoch 46/100\n",
      "20/20 - 0s - loss: 0.0202 - accuracy: 0.9950 - val_loss: 0.0851 - val_accuracy: 0.9665\n",
      "Epoch 47/100\n",
      "20/20 - 0s - loss: 0.0249 - accuracy: 0.9900 - val_loss: 0.1008 - val_accuracy: 0.9665\n",
      "Epoch 48/100\n",
      "20/20 - 0s - loss: 0.0253 - accuracy: 0.9875 - val_loss: 0.0886 - val_accuracy: 0.9665\n",
      "Epoch 49/100\n",
      "20/20 - 0s - loss: 0.0183 - accuracy: 0.9950 - val_loss: 0.0844 - val_accuracy: 0.9703\n",
      "Epoch 50/100\n",
      "20/20 - 0s - loss: 0.0171 - accuracy: 0.9975 - val_loss: 0.0828 - val_accuracy: 0.9703\n",
      "Epoch 51/100\n",
      "20/20 - 0s - loss: 0.0158 - accuracy: 0.9975 - val_loss: 0.0869 - val_accuracy: 0.9665\n",
      "Epoch 52/100\n",
      "20/20 - 0s - loss: 0.0182 - accuracy: 0.9925 - val_loss: 0.0834 - val_accuracy: 0.9703\n",
      "Epoch 53/100\n",
      "20/20 - 0s - loss: 0.0145 - accuracy: 0.9975 - val_loss: 0.0860 - val_accuracy: 0.9665\n",
      "Epoch 54/100\n",
      "20/20 - 0s - loss: 0.0165 - accuracy: 0.9975 - val_loss: 0.0856 - val_accuracy: 0.9665\n",
      "Epoch 55/100\n",
      "20/20 - 0s - loss: 0.0178 - accuracy: 0.9950 - val_loss: 0.0987 - val_accuracy: 0.9665\n",
      "Epoch 56/100\n",
      "20/20 - 0s - loss: 0.0209 - accuracy: 0.9925 - val_loss: 0.0984 - val_accuracy: 0.9665\n",
      "Epoch 57/100\n",
      "20/20 - 0s - loss: 0.0137 - accuracy: 0.9975 - val_loss: 0.0831 - val_accuracy: 0.9703\n",
      "Epoch 58/100\n",
      "20/20 - 0s - loss: 0.0151 - accuracy: 0.9975 - val_loss: 0.0868 - val_accuracy: 0.9665\n",
      "Epoch 59/100\n",
      "20/20 - 0s - loss: 0.0128 - accuracy: 0.9975 - val_loss: 0.0846 - val_accuracy: 0.9703\n",
      "Epoch 60/100\n",
      "20/20 - 0s - loss: 0.0117 - accuracy: 0.9975 - val_loss: 0.0821 - val_accuracy: 0.9703\n",
      "Epoch 61/100\n",
      "20/20 - 0s - loss: 0.0150 - accuracy: 0.9950 - val_loss: 0.0887 - val_accuracy: 0.9665\n",
      "Epoch 62/100\n",
      "20/20 - 0s - loss: 0.0125 - accuracy: 0.9975 - val_loss: 0.0847 - val_accuracy: 0.9703\n",
      "Epoch 63/100\n",
      "20/20 - 0s - loss: 0.0099 - accuracy: 1.0000 - val_loss: 0.0856 - val_accuracy: 0.9703\n",
      "Epoch 64/100\n",
      "20/20 - 0s - loss: 0.0114 - accuracy: 0.9975 - val_loss: 0.0831 - val_accuracy: 0.9703\n",
      "Epoch 65/100\n",
      "20/20 - 0s - loss: 0.0096 - accuracy: 0.9975 - val_loss: 0.0825 - val_accuracy: 0.9703\n",
      "Epoch 66/100\n",
      "20/20 - 0s - loss: 0.0089 - accuracy: 1.0000 - val_loss: 0.0885 - val_accuracy: 0.9665\n",
      "Epoch 67/100\n",
      "20/20 - 0s - loss: 0.0104 - accuracy: 0.9975 - val_loss: 0.0840 - val_accuracy: 0.9703\n",
      "Epoch 68/100\n",
      "20/20 - 0s - loss: 0.0084 - accuracy: 1.0000 - val_loss: 0.0888 - val_accuracy: 0.9665\n",
      "Epoch 69/100\n",
      "20/20 - 0s - loss: 0.0094 - accuracy: 0.9975 - val_loss: 0.0812 - val_accuracy: 0.9703\n",
      "Epoch 70/100\n",
      "20/20 - 0s - loss: 0.0089 - accuracy: 1.0000 - val_loss: 0.0940 - val_accuracy: 0.9665\n",
      "Epoch 71/100\n",
      "20/20 - 0s - loss: 0.0079 - accuracy: 1.0000 - val_loss: 0.0823 - val_accuracy: 0.9703\n",
      "Epoch 72/100\n",
      "20/20 - 0s - loss: 0.0107 - accuracy: 0.9950 - val_loss: 0.0830 - val_accuracy: 0.9703\n",
      "Epoch 73/100\n",
      "20/20 - 0s - loss: 0.0085 - accuracy: 1.0000 - val_loss: 0.0847 - val_accuracy: 0.9703\n",
      "Epoch 74/100\n",
      "20/20 - 0s - loss: 0.0077 - accuracy: 1.0000 - val_loss: 0.0921 - val_accuracy: 0.9665\n",
      "Epoch 75/100\n",
      "20/20 - 0s - loss: 0.0080 - accuracy: 1.0000 - val_loss: 0.0869 - val_accuracy: 0.9665\n",
      "Epoch 76/100\n",
      "20/20 - 0s - loss: 0.0068 - accuracy: 1.0000 - val_loss: 0.0807 - val_accuracy: 0.9703\n",
      "Epoch 77/100\n",
      "20/20 - 0s - loss: 0.0058 - accuracy: 1.0000 - val_loss: 0.0854 - val_accuracy: 0.9703\n",
      "Epoch 78/100\n",
      "20/20 - 0s - loss: 0.0062 - accuracy: 1.0000 - val_loss: 0.0930 - val_accuracy: 0.9665\n",
      "Epoch 79/100\n",
      "20/20 - 0s - loss: 0.0057 - accuracy: 1.0000 - val_loss: 0.0834 - val_accuracy: 0.9703\n",
      "Epoch 80/100\n",
      "20/20 - 0s - loss: 0.0054 - accuracy: 1.0000 - val_loss: 0.0838 - val_accuracy: 0.9703\n",
      "Epoch 81/100\n",
      "20/20 - 0s - loss: 0.0049 - accuracy: 1.0000 - val_loss: 0.0826 - val_accuracy: 0.9703\n",
      "Epoch 82/100\n",
      "20/20 - 0s - loss: 0.0045 - accuracy: 1.0000 - val_loss: 0.0866 - val_accuracy: 0.9703\n",
      "Epoch 83/100\n"
     ]
    },
    {
     "name": "stdout",
     "output_type": "stream",
     "text": [
      "20/20 - 0s - loss: 0.0044 - accuracy: 1.0000 - val_loss: 0.0822 - val_accuracy: 0.9703\n",
      "Epoch 84/100\n",
      "20/20 - 0s - loss: 0.0041 - accuracy: 1.0000 - val_loss: 0.0868 - val_accuracy: 0.9703\n",
      "Epoch 85/100\n",
      "20/20 - 0s - loss: 0.0042 - accuracy: 1.0000 - val_loss: 0.0877 - val_accuracy: 0.9703\n",
      "Epoch 86/100\n",
      "20/20 - 0s - loss: 0.0045 - accuracy: 1.0000 - val_loss: 0.0819 - val_accuracy: 0.9740\n",
      "Epoch 87/100\n",
      "20/20 - 0s - loss: 0.0040 - accuracy: 1.0000 - val_loss: 0.0973 - val_accuracy: 0.9665\n",
      "Epoch 88/100\n",
      "20/20 - 0s - loss: 0.0041 - accuracy: 1.0000 - val_loss: 0.0840 - val_accuracy: 0.9703\n",
      "Epoch 89/100\n",
      "20/20 - 0s - loss: 0.0054 - accuracy: 1.0000 - val_loss: 0.0875 - val_accuracy: 0.9703\n",
      "Epoch 90/100\n",
      "20/20 - 0s - loss: 0.0037 - accuracy: 1.0000 - val_loss: 0.0896 - val_accuracy: 0.9703\n",
      "Epoch 91/100\n",
      "20/20 - 0s - loss: 0.0041 - accuracy: 1.0000 - val_loss: 0.0941 - val_accuracy: 0.9703\n",
      "Epoch 92/100\n",
      "20/20 - 0s - loss: 0.0036 - accuracy: 1.0000 - val_loss: 0.0913 - val_accuracy: 0.9703\n",
      "Epoch 93/100\n",
      "20/20 - 0s - loss: 0.0031 - accuracy: 1.0000 - val_loss: 0.0863 - val_accuracy: 0.9703\n",
      "Epoch 94/100\n",
      "20/20 - 0s - loss: 0.0032 - accuracy: 1.0000 - val_loss: 0.0971 - val_accuracy: 0.9665\n",
      "Epoch 95/100\n",
      "20/20 - 0s - loss: 0.0031 - accuracy: 1.0000 - val_loss: 0.0838 - val_accuracy: 0.9740\n",
      "Epoch 96/100\n",
      "20/20 - 0s - loss: 0.0045 - accuracy: 1.0000 - val_loss: 0.0947 - val_accuracy: 0.9665\n",
      "Epoch 97/100\n",
      "20/20 - 0s - loss: 0.0027 - accuracy: 1.0000 - val_loss: 0.0871 - val_accuracy: 0.9703\n",
      "Epoch 98/100\n",
      "20/20 - 0s - loss: 0.0025 - accuracy: 1.0000 - val_loss: 0.0915 - val_accuracy: 0.9703\n",
      "Epoch 99/100\n",
      "20/20 - 0s - loss: 0.0024 - accuracy: 1.0000 - val_loss: 0.0864 - val_accuracy: 0.9703\n",
      "Epoch 100/100\n",
      "20/20 - 0s - loss: 0.0023 - accuracy: 1.0000 - val_loss: 0.0892 - val_accuracy: 0.9703\n"
     ]
    },
    {
     "data": {
      "text/plain": [
       "<tensorflow.python.keras.callbacks.History at 0x7ff48ccf2490>"
      ]
     },
     "execution_count": 50,
     "metadata": {},
     "output_type": "execute_result"
    }
   ],
   "source": [
    "model1 = Sequential()\n",
    "model1.add(Dense(30, activation='relu', input_dim=dim))\n",
    "model1.add(Dense(10, activation='relu'))\n",
    "model1.add(Dense(3, activation='relu'))\n",
    "model1.add(Dense(1, activation='sigmoid'))\n",
    "model1.compile(loss='binary_crossentropy', optimizer='adam', metrics=['accuracy'])\n",
    "model1.fit(X_train, Y_wkd_train, validation_data=(X_test, Y_wkd_test), epochs=100, batch_size=20, verbose=2)"
   ]
  },
  {
   "cell_type": "code",
   "execution_count": 51,
   "metadata": {},
   "outputs": [],
   "source": [
    "result = pd.DataFrame()\n",
    "result['Y_wkd_test'] = Y_wkd_test\n",
    "result['dl_predict'] = model1.predict(X_test)\n",
    "result['dl_label']=1.0*(result['dl_predict']>0.5)"
   ]
  },
  {
   "cell_type": "code",
   "execution_count": 53,
   "metadata": {},
   "outputs": [
    {
     "name": "stdout",
     "output_type": "stream",
     "text": [
      "Accuracy is: 0.9702602230483272\n"
     ]
    }
   ],
   "source": [
    "print('Accuracy is: '+str(1.0*sum((result['Y_wkd_test']==1)==(result['dl_predict']>0.5))/len(result['dl_predict'])))"
   ]
  },
  {
   "cell_type": "markdown",
   "metadata": {},
   "source": [
    "## Task 2. Classify all days of the week\n",
    "Train a neural network against the origial categorical label. Use 5 layers of 40,15,5 and 7 (outputs, representing probabilities for a current input to correspond to each of the weekdays) neurons over the training sample, evaluating its performance over the test sample (use 'categorical_accurary'). Report the acheived accuracy (categorical) over the test sample.\n",
    "\n",
    "First three layers use relu activation function, last one - sigmoid.\n",
    "Use loss='binary_crossentropy', optimizer='adam', 200 epochs, batch_size=20"
   ]
  },
  {
   "cell_type": "code",
   "execution_count": 54,
   "metadata": {},
   "outputs": [
    {
     "data": {
      "text/plain": [
       "100"
      ]
     },
     "execution_count": 54,
     "metadata": {},
     "output_type": "execute_result"
    }
   ],
   "source": [
    "dim = X_train.shape[1]\n",
    "dim"
   ]
  },
  {
   "cell_type": "code",
   "execution_count": 55,
   "metadata": {},
   "outputs": [],
   "source": [
    "np.random.seed(2019)\n",
    "model2 = Sequential()\n",
    "model2.add(Dense(units=40, input_dim=dim, activation='relu'))\n",
    "model2.add(Dense(units=15, activation='relu'))\n",
    "model2.add(Dense(units=5, activation='relu'))\n",
    "model2.add(Dense(units=7, activation='sigmoid'))"
   ]
  },
  {
   "cell_type": "code",
   "execution_count": 56,
   "metadata": {},
   "outputs": [
    {
     "name": "stdout",
     "output_type": "stream",
     "text": [
      "Epoch 1/200\n",
      "20/20 - 0s - loss: 0.6929 - categorical_accuracy: 0.1450 - val_loss: 0.6573 - val_categorical_accuracy: 0.1413\n",
      "Epoch 2/200\n",
      "20/20 - 0s - loss: 0.6189 - categorical_accuracy: 0.1600 - val_loss: 0.5867 - val_categorical_accuracy: 0.1747\n",
      "Epoch 3/200\n",
      "20/20 - 0s - loss: 0.5637 - categorical_accuracy: 0.1700 - val_loss: 0.5387 - val_categorical_accuracy: 0.1413\n",
      "Epoch 4/200\n",
      "20/20 - 0s - loss: 0.5191 - categorical_accuracy: 0.1450 - val_loss: 0.4986 - val_categorical_accuracy: 0.1487\n",
      "Epoch 5/200\n",
      "20/20 - 0s - loss: 0.4837 - categorical_accuracy: 0.1500 - val_loss: 0.4688 - val_categorical_accuracy: 0.1413\n",
      "Epoch 6/200\n",
      "20/20 - 0s - loss: 0.4588 - categorical_accuracy: 0.1525 - val_loss: 0.4490 - val_categorical_accuracy: 0.1413\n",
      "Epoch 7/200\n",
      "20/20 - 0s - loss: 0.4429 - categorical_accuracy: 0.1675 - val_loss: 0.4369 - val_categorical_accuracy: 0.1413\n",
      "Epoch 8/200\n",
      "20/20 - 0s - loss: 0.4327 - categorical_accuracy: 0.1825 - val_loss: 0.4288 - val_categorical_accuracy: 0.1524\n",
      "Epoch 9/200\n",
      "20/20 - 0s - loss: 0.4267 - categorical_accuracy: 0.1475 - val_loss: 0.4233 - val_categorical_accuracy: 0.2268\n",
      "Epoch 10/200\n",
      "20/20 - 0s - loss: 0.4221 - categorical_accuracy: 0.1650 - val_loss: 0.4193 - val_categorical_accuracy: 0.1450\n",
      "Epoch 11/200\n",
      "20/20 - 0s - loss: 0.4183 - categorical_accuracy: 0.1475 - val_loss: 0.4161 - val_categorical_accuracy: 0.1859\n",
      "Epoch 12/200\n",
      "20/20 - 0s - loss: 0.4152 - categorical_accuracy: 0.1675 - val_loss: 0.4137 - val_categorical_accuracy: 0.1524\n",
      "Epoch 13/200\n",
      "20/20 - 0s - loss: 0.4132 - categorical_accuracy: 0.1675 - val_loss: 0.4113 - val_categorical_accuracy: 0.1896\n",
      "Epoch 14/200\n",
      "20/20 - 0s - loss: 0.4116 - categorical_accuracy: 0.1600 - val_loss: 0.4098 - val_categorical_accuracy: 0.2007\n",
      "Epoch 15/200\n",
      "20/20 - 0s - loss: 0.4100 - categorical_accuracy: 0.1825 - val_loss: 0.4080 - val_categorical_accuracy: 0.2268\n",
      "Epoch 16/200\n",
      "20/20 - 0s - loss: 0.4079 - categorical_accuracy: 0.1750 - val_loss: 0.4070 - val_categorical_accuracy: 0.1450\n",
      "Epoch 17/200\n",
      "20/20 - 0s - loss: 0.4065 - categorical_accuracy: 0.1575 - val_loss: 0.4050 - val_categorical_accuracy: 0.1784\n",
      "Epoch 18/200\n",
      "20/20 - 0s - loss: 0.4051 - categorical_accuracy: 0.1825 - val_loss: 0.4039 - val_categorical_accuracy: 0.1599\n",
      "Epoch 19/200\n",
      "20/20 - 0s - loss: 0.4039 - categorical_accuracy: 0.2125 - val_loss: 0.4033 - val_categorical_accuracy: 0.1450\n",
      "Epoch 20/200\n",
      "20/20 - 0s - loss: 0.4028 - categorical_accuracy: 0.1475 - val_loss: 0.4015 - val_categorical_accuracy: 0.1413\n",
      "Epoch 21/200\n",
      "20/20 - 0s - loss: 0.4018 - categorical_accuracy: 0.1775 - val_loss: 0.4009 - val_categorical_accuracy: 0.2193\n",
      "Epoch 22/200\n",
      "20/20 - 0s - loss: 0.4018 - categorical_accuracy: 0.1700 - val_loss: 0.4001 - val_categorical_accuracy: 0.2491\n",
      "Epoch 23/200\n",
      "20/20 - 0s - loss: 0.4004 - categorical_accuracy: 0.2100 - val_loss: 0.4008 - val_categorical_accuracy: 0.0781\n",
      "Epoch 24/200\n",
      "20/20 - 0s - loss: 0.3991 - categorical_accuracy: 0.1900 - val_loss: 0.3983 - val_categorical_accuracy: 0.0743\n",
      "Epoch 25/200\n",
      "20/20 - 0s - loss: 0.3980 - categorical_accuracy: 0.1350 - val_loss: 0.3966 - val_categorical_accuracy: 0.1487\n",
      "Epoch 26/200\n",
      "20/20 - 0s - loss: 0.3961 - categorical_accuracy: 0.1050 - val_loss: 0.3955 - val_categorical_accuracy: 0.0706\n",
      "Epoch 27/200\n",
      "20/20 - 0s - loss: 0.3955 - categorical_accuracy: 0.1875 - val_loss: 0.3958 - val_categorical_accuracy: 0.1190\n",
      "Epoch 28/200\n",
      "20/20 - 0s - loss: 0.3941 - categorical_accuracy: 0.1300 - val_loss: 0.3937 - val_categorical_accuracy: 0.0818\n",
      "Epoch 29/200\n",
      "20/20 - 0s - loss: 0.3930 - categorical_accuracy: 0.1325 - val_loss: 0.3921 - val_categorical_accuracy: 0.1636\n",
      "Epoch 30/200\n",
      "20/20 - 0s - loss: 0.3910 - categorical_accuracy: 0.1725 - val_loss: 0.3915 - val_categorical_accuracy: 0.1784\n",
      "Epoch 31/200\n",
      "20/20 - 0s - loss: 0.3895 - categorical_accuracy: 0.1650 - val_loss: 0.3902 - val_categorical_accuracy: 0.1115\n",
      "Epoch 32/200\n",
      "20/20 - 0s - loss: 0.3906 - categorical_accuracy: 0.1650 - val_loss: 0.3878 - val_categorical_accuracy: 0.2862\n",
      "Epoch 33/200\n",
      "20/20 - 0s - loss: 0.3875 - categorical_accuracy: 0.2775 - val_loss: 0.3837 - val_categorical_accuracy: 0.3346\n",
      "Epoch 34/200\n",
      "20/20 - 0s - loss: 0.3828 - categorical_accuracy: 0.3125 - val_loss: 0.3798 - val_categorical_accuracy: 0.3457\n",
      "Epoch 35/200\n",
      "20/20 - 0s - loss: 0.3792 - categorical_accuracy: 0.3000 - val_loss: 0.3794 - val_categorical_accuracy: 0.3606\n",
      "Epoch 36/200\n",
      "20/20 - 0s - loss: 0.3765 - categorical_accuracy: 0.3425 - val_loss: 0.3737 - val_categorical_accuracy: 0.3383\n",
      "Epoch 37/200\n",
      "20/20 - 0s - loss: 0.3728 - categorical_accuracy: 0.2975 - val_loss: 0.3788 - val_categorical_accuracy: 0.3383\n",
      "Epoch 38/200\n",
      "20/20 - 0s - loss: 0.3699 - categorical_accuracy: 0.3400 - val_loss: 0.3675 - val_categorical_accuracy: 0.3978\n",
      "Epoch 39/200\n",
      "20/20 - 0s - loss: 0.3639 - categorical_accuracy: 0.3975 - val_loss: 0.3620 - val_categorical_accuracy: 0.4126\n",
      "Epoch 40/200\n",
      "20/20 - 0s - loss: 0.3602 - categorical_accuracy: 0.3950 - val_loss: 0.3566 - val_categorical_accuracy: 0.4089\n",
      "Epoch 41/200\n",
      "20/20 - 0s - loss: 0.3546 - categorical_accuracy: 0.4300 - val_loss: 0.3518 - val_categorical_accuracy: 0.4201\n",
      "Epoch 42/200\n",
      "20/20 - 0s - loss: 0.3488 - categorical_accuracy: 0.4325 - val_loss: 0.3461 - val_categorical_accuracy: 0.3978\n",
      "Epoch 43/200\n",
      "20/20 - 0s - loss: 0.3445 - categorical_accuracy: 0.4675 - val_loss: 0.3401 - val_categorical_accuracy: 0.4312\n",
      "Epoch 44/200\n",
      "20/20 - 0s - loss: 0.3392 - categorical_accuracy: 0.4375 - val_loss: 0.3340 - val_categorical_accuracy: 0.4387\n",
      "Epoch 45/200\n",
      "20/20 - 0s - loss: 0.3328 - categorical_accuracy: 0.4400 - val_loss: 0.3303 - val_categorical_accuracy: 0.4944\n",
      "Epoch 46/200\n",
      "20/20 - 0s - loss: 0.3265 - categorical_accuracy: 0.4675 - val_loss: 0.3274 - val_categorical_accuracy: 0.5093\n",
      "Epoch 47/200\n",
      "20/20 - 0s - loss: 0.3217 - categorical_accuracy: 0.4925 - val_loss: 0.3231 - val_categorical_accuracy: 0.5428\n",
      "Epoch 48/200\n",
      "20/20 - 0s - loss: 0.3170 - categorical_accuracy: 0.4950 - val_loss: 0.3166 - val_categorical_accuracy: 0.5465\n",
      "Epoch 49/200\n",
      "20/20 - 0s - loss: 0.3126 - categorical_accuracy: 0.4850 - val_loss: 0.3077 - val_categorical_accuracy: 0.5130\n",
      "Epoch 50/200\n",
      "20/20 - 0s - loss: 0.3092 - categorical_accuracy: 0.4925 - val_loss: 0.3043 - val_categorical_accuracy: 0.4944\n",
      "Epoch 51/200\n",
      "20/20 - 0s - loss: 0.3040 - categorical_accuracy: 0.4950 - val_loss: 0.2998 - val_categorical_accuracy: 0.5353\n",
      "Epoch 52/200\n",
      "20/20 - 0s - loss: 0.3008 - categorical_accuracy: 0.4950 - val_loss: 0.2975 - val_categorical_accuracy: 0.5204\n",
      "Epoch 53/200\n",
      "20/20 - 0s - loss: 0.2955 - categorical_accuracy: 0.5175 - val_loss: 0.2939 - val_categorical_accuracy: 0.5316\n",
      "Epoch 54/200\n",
      "20/20 - 0s - loss: 0.2913 - categorical_accuracy: 0.5200 - val_loss: 0.2933 - val_categorical_accuracy: 0.5353\n",
      "Epoch 55/200\n",
      "20/20 - 0s - loss: 0.2881 - categorical_accuracy: 0.5425 - val_loss: 0.2881 - val_categorical_accuracy: 0.5539\n",
      "Epoch 56/200\n",
      "20/20 - 0s - loss: 0.2864 - categorical_accuracy: 0.5425 - val_loss: 0.2888 - val_categorical_accuracy: 0.5539\n",
      "Epoch 57/200\n",
      "20/20 - 0s - loss: 0.2836 - categorical_accuracy: 0.5325 - val_loss: 0.2860 - val_categorical_accuracy: 0.5465\n",
      "Epoch 58/200\n",
      "20/20 - 0s - loss: 0.2817 - categorical_accuracy: 0.5275 - val_loss: 0.2831 - val_categorical_accuracy: 0.5539\n",
      "Epoch 59/200\n",
      "20/20 - 0s - loss: 0.2829 - categorical_accuracy: 0.5400 - val_loss: 0.2839 - val_categorical_accuracy: 0.5093\n",
      "Epoch 60/200\n",
      "20/20 - 0s - loss: 0.2791 - categorical_accuracy: 0.5325 - val_loss: 0.2856 - val_categorical_accuracy: 0.5613\n",
      "Epoch 61/200\n",
      "20/20 - 0s - loss: 0.2769 - categorical_accuracy: 0.5475 - val_loss: 0.2807 - val_categorical_accuracy: 0.5353\n",
      "Epoch 62/200\n",
      "20/20 - 0s - loss: 0.2756 - categorical_accuracy: 0.5225 - val_loss: 0.2878 - val_categorical_accuracy: 0.5390\n",
      "Epoch 63/200\n",
      "20/20 - 0s - loss: 0.2752 - categorical_accuracy: 0.5600 - val_loss: 0.2838 - val_categorical_accuracy: 0.5390\n",
      "Epoch 64/200\n",
      "20/20 - 0s - loss: 0.2748 - categorical_accuracy: 0.5550 - val_loss: 0.2763 - val_categorical_accuracy: 0.5613\n",
      "Epoch 65/200\n",
      "20/20 - 0s - loss: 0.2711 - categorical_accuracy: 0.5350 - val_loss: 0.2769 - val_categorical_accuracy: 0.5539\n",
      "Epoch 66/200\n",
      "20/20 - 0s - loss: 0.2700 - categorical_accuracy: 0.5675 - val_loss: 0.2743 - val_categorical_accuracy: 0.5725\n",
      "Epoch 67/200\n",
      "20/20 - 0s - loss: 0.2678 - categorical_accuracy: 0.5325 - val_loss: 0.2740 - val_categorical_accuracy: 0.5428\n"
     ]
    },
    {
     "name": "stdout",
     "output_type": "stream",
     "text": [
      "Epoch 68/200\n",
      "20/20 - 0s - loss: 0.2662 - categorical_accuracy: 0.5700 - val_loss: 0.2725 - val_categorical_accuracy: 0.5688\n",
      "Epoch 69/200\n",
      "20/20 - 0s - loss: 0.2664 - categorical_accuracy: 0.5425 - val_loss: 0.2721 - val_categorical_accuracy: 0.5502\n",
      "Epoch 70/200\n",
      "20/20 - 0s - loss: 0.2652 - categorical_accuracy: 0.5450 - val_loss: 0.2720 - val_categorical_accuracy: 0.5688\n",
      "Epoch 71/200\n",
      "20/20 - 0s - loss: 0.2647 - categorical_accuracy: 0.5250 - val_loss: 0.2690 - val_categorical_accuracy: 0.5651\n",
      "Epoch 72/200\n",
      "20/20 - 0s - loss: 0.2616 - categorical_accuracy: 0.5475 - val_loss: 0.2690 - val_categorical_accuracy: 0.5688\n",
      "Epoch 73/200\n",
      "20/20 - 0s - loss: 0.2607 - categorical_accuracy: 0.5600 - val_loss: 0.2681 - val_categorical_accuracy: 0.5688\n",
      "Epoch 74/200\n",
      "20/20 - 0s - loss: 0.2587 - categorical_accuracy: 0.5750 - val_loss: 0.2683 - val_categorical_accuracy: 0.5688\n",
      "Epoch 75/200\n",
      "20/20 - 0s - loss: 0.2603 - categorical_accuracy: 0.5600 - val_loss: 0.2717 - val_categorical_accuracy: 0.5316\n",
      "Epoch 76/200\n",
      "20/20 - 0s - loss: 0.2589 - categorical_accuracy: 0.5450 - val_loss: 0.2671 - val_categorical_accuracy: 0.5539\n",
      "Epoch 77/200\n",
      "20/20 - 0s - loss: 0.2578 - categorical_accuracy: 0.5475 - val_loss: 0.2665 - val_categorical_accuracy: 0.5465\n",
      "Epoch 78/200\n",
      "20/20 - 0s - loss: 0.2551 - categorical_accuracy: 0.5725 - val_loss: 0.2685 - val_categorical_accuracy: 0.5465\n",
      "Epoch 79/200\n",
      "20/20 - 0s - loss: 0.2550 - categorical_accuracy: 0.5625 - val_loss: 0.2635 - val_categorical_accuracy: 0.5725\n",
      "Epoch 80/200\n",
      "20/20 - 0s - loss: 0.2538 - categorical_accuracy: 0.5575 - val_loss: 0.2625 - val_categorical_accuracy: 0.5613\n",
      "Epoch 81/200\n",
      "20/20 - 0s - loss: 0.2537 - categorical_accuracy: 0.5400 - val_loss: 0.2615 - val_categorical_accuracy: 0.5613\n",
      "Epoch 82/200\n",
      "20/20 - 0s - loss: 0.2520 - categorical_accuracy: 0.5700 - val_loss: 0.2612 - val_categorical_accuracy: 0.5651\n",
      "Epoch 83/200\n",
      "20/20 - 0s - loss: 0.2510 - categorical_accuracy: 0.5575 - val_loss: 0.2632 - val_categorical_accuracy: 0.5428\n",
      "Epoch 84/200\n",
      "20/20 - 0s - loss: 0.2521 - categorical_accuracy: 0.5350 - val_loss: 0.2607 - val_categorical_accuracy: 0.5725\n",
      "Epoch 85/200\n",
      "20/20 - 0s - loss: 0.2496 - categorical_accuracy: 0.5525 - val_loss: 0.2609 - val_categorical_accuracy: 0.5613\n",
      "Epoch 86/200\n",
      "20/20 - 0s - loss: 0.2499 - categorical_accuracy: 0.5600 - val_loss: 0.2605 - val_categorical_accuracy: 0.5688\n",
      "Epoch 87/200\n",
      "20/20 - 0s - loss: 0.2489 - categorical_accuracy: 0.5825 - val_loss: 0.2608 - val_categorical_accuracy: 0.5799\n",
      "Epoch 88/200\n",
      "20/20 - 0s - loss: 0.2484 - categorical_accuracy: 0.5725 - val_loss: 0.2591 - val_categorical_accuracy: 0.5576\n",
      "Epoch 89/200\n",
      "20/20 - 0s - loss: 0.2475 - categorical_accuracy: 0.5650 - val_loss: 0.2585 - val_categorical_accuracy: 0.5651\n",
      "Epoch 90/200\n",
      "20/20 - 0s - loss: 0.2463 - categorical_accuracy: 0.5700 - val_loss: 0.2625 - val_categorical_accuracy: 0.5428\n",
      "Epoch 91/200\n",
      "20/20 - 0s - loss: 0.2500 - categorical_accuracy: 0.5600 - val_loss: 0.2623 - val_categorical_accuracy: 0.5613\n",
      "Epoch 92/200\n",
      "20/20 - 0s - loss: 0.2471 - categorical_accuracy: 0.5350 - val_loss: 0.2571 - val_categorical_accuracy: 0.5613\n",
      "Epoch 93/200\n",
      "20/20 - 0s - loss: 0.2474 - categorical_accuracy: 0.5375 - val_loss: 0.2643 - val_categorical_accuracy: 0.5167\n",
      "Epoch 94/200\n",
      "20/20 - 0s - loss: 0.2517 - categorical_accuracy: 0.5325 - val_loss: 0.2564 - val_categorical_accuracy: 0.6022\n",
      "Epoch 95/200\n",
      "20/20 - 0s - loss: 0.2446 - categorical_accuracy: 0.5875 - val_loss: 0.2572 - val_categorical_accuracy: 0.5725\n",
      "Epoch 96/200\n",
      "20/20 - 0s - loss: 0.2435 - categorical_accuracy: 0.5600 - val_loss: 0.2553 - val_categorical_accuracy: 0.5576\n",
      "Epoch 97/200\n",
      "20/20 - 0s - loss: 0.2423 - categorical_accuracy: 0.5550 - val_loss: 0.2563 - val_categorical_accuracy: 0.5651\n",
      "Epoch 98/200\n",
      "20/20 - 0s - loss: 0.2419 - categorical_accuracy: 0.5775 - val_loss: 0.2552 - val_categorical_accuracy: 0.5651\n",
      "Epoch 99/200\n",
      "20/20 - 0s - loss: 0.2419 - categorical_accuracy: 0.5575 - val_loss: 0.2634 - val_categorical_accuracy: 0.5651\n",
      "Epoch 100/200\n",
      "20/20 - 0s - loss: 0.2469 - categorical_accuracy: 0.5475 - val_loss: 0.2613 - val_categorical_accuracy: 0.5725\n",
      "Epoch 101/200\n",
      "20/20 - 0s - loss: 0.2435 - categorical_accuracy: 0.5825 - val_loss: 0.2542 - val_categorical_accuracy: 0.5799\n",
      "Epoch 102/200\n",
      "20/20 - 0s - loss: 0.2396 - categorical_accuracy: 0.5650 - val_loss: 0.2540 - val_categorical_accuracy: 0.5688\n",
      "Epoch 103/200\n",
      "20/20 - 0s - loss: 0.2393 - categorical_accuracy: 0.5800 - val_loss: 0.2540 - val_categorical_accuracy: 0.5613\n",
      "Epoch 104/200\n",
      "20/20 - 0s - loss: 0.2396 - categorical_accuracy: 0.5625 - val_loss: 0.2530 - val_categorical_accuracy: 0.5762\n",
      "Epoch 105/200\n",
      "20/20 - 0s - loss: 0.2392 - categorical_accuracy: 0.5900 - val_loss: 0.2518 - val_categorical_accuracy: 0.5836\n",
      "Epoch 106/200\n",
      "20/20 - 0s - loss: 0.2371 - categorical_accuracy: 0.5800 - val_loss: 0.2542 - val_categorical_accuracy: 0.5725\n",
      "Epoch 107/200\n",
      "20/20 - 0s - loss: 0.2378 - categorical_accuracy: 0.5700 - val_loss: 0.2533 - val_categorical_accuracy: 0.5651\n",
      "Epoch 108/200\n",
      "20/20 - 0s - loss: 0.2412 - categorical_accuracy: 0.5650 - val_loss: 0.2656 - val_categorical_accuracy: 0.5576\n",
      "Epoch 109/200\n",
      "20/20 - 0s - loss: 0.2410 - categorical_accuracy: 0.5825 - val_loss: 0.2532 - val_categorical_accuracy: 0.5799\n",
      "Epoch 110/200\n",
      "20/20 - 0s - loss: 0.2360 - categorical_accuracy: 0.5750 - val_loss: 0.2507 - val_categorical_accuracy: 0.5799\n",
      "Epoch 111/200\n",
      "20/20 - 0s - loss: 0.2359 - categorical_accuracy: 0.5950 - val_loss: 0.2498 - val_categorical_accuracy: 0.5799\n",
      "Epoch 112/200\n",
      "20/20 - 0s - loss: 0.2364 - categorical_accuracy: 0.5750 - val_loss: 0.2501 - val_categorical_accuracy: 0.5539\n",
      "Epoch 113/200\n",
      "20/20 - 0s - loss: 0.2352 - categorical_accuracy: 0.5750 - val_loss: 0.2494 - val_categorical_accuracy: 0.6171\n",
      "Epoch 114/200\n",
      "20/20 - 0s - loss: 0.2335 - categorical_accuracy: 0.5900 - val_loss: 0.2484 - val_categorical_accuracy: 0.5762\n",
      "Epoch 115/200\n",
      "20/20 - 0s - loss: 0.2347 - categorical_accuracy: 0.5775 - val_loss: 0.2488 - val_categorical_accuracy: 0.5613\n",
      "Epoch 116/200\n",
      "20/20 - 0s - loss: 0.2332 - categorical_accuracy: 0.5725 - val_loss: 0.2474 - val_categorical_accuracy: 0.5725\n",
      "Epoch 117/200\n",
      "20/20 - 0s - loss: 0.2328 - categorical_accuracy: 0.5725 - val_loss: 0.2470 - val_categorical_accuracy: 0.5762\n",
      "Epoch 118/200\n",
      "20/20 - 0s - loss: 0.2326 - categorical_accuracy: 0.5875 - val_loss: 0.2483 - val_categorical_accuracy: 0.5911\n",
      "Epoch 119/200\n",
      "20/20 - 0s - loss: 0.2325 - categorical_accuracy: 0.5700 - val_loss: 0.2468 - val_categorical_accuracy: 0.5762\n",
      "Epoch 120/200\n",
      "20/20 - 0s - loss: 0.2332 - categorical_accuracy: 0.5625 - val_loss: 0.2479 - val_categorical_accuracy: 0.5576\n",
      "Epoch 121/200\n",
      "20/20 - 0s - loss: 0.2316 - categorical_accuracy: 0.5825 - val_loss: 0.2473 - val_categorical_accuracy: 0.5576\n",
      "Epoch 122/200\n",
      "20/20 - 0s - loss: 0.2293 - categorical_accuracy: 0.5750 - val_loss: 0.2484 - val_categorical_accuracy: 0.5948\n",
      "Epoch 123/200\n",
      "20/20 - 0s - loss: 0.2296 - categorical_accuracy: 0.5775 - val_loss: 0.2464 - val_categorical_accuracy: 0.5688\n",
      "Epoch 124/200\n",
      "20/20 - 0s - loss: 0.2287 - categorical_accuracy: 0.5875 - val_loss: 0.2468 - val_categorical_accuracy: 0.5799\n",
      "Epoch 125/200\n",
      "20/20 - 0s - loss: 0.2294 - categorical_accuracy: 0.5800 - val_loss: 0.2460 - val_categorical_accuracy: 0.5948\n",
      "Epoch 126/200\n",
      "20/20 - 0s - loss: 0.2275 - categorical_accuracy: 0.5650 - val_loss: 0.2449 - val_categorical_accuracy: 0.5613\n",
      "Epoch 127/200\n",
      "20/20 - 0s - loss: 0.2275 - categorical_accuracy: 0.5750 - val_loss: 0.2449 - val_categorical_accuracy: 0.5874\n",
      "Epoch 128/200\n",
      "20/20 - 0s - loss: 0.2279 - categorical_accuracy: 0.5575 - val_loss: 0.2453 - val_categorical_accuracy: 0.5725\n",
      "Epoch 129/200\n",
      "20/20 - 0s - loss: 0.2270 - categorical_accuracy: 0.5675 - val_loss: 0.2446 - val_categorical_accuracy: 0.6022\n",
      "Epoch 130/200\n",
      "20/20 - 0s - loss: 0.2266 - categorical_accuracy: 0.6025 - val_loss: 0.2446 - val_categorical_accuracy: 0.5799\n",
      "Epoch 131/200\n",
      "20/20 - 0s - loss: 0.2264 - categorical_accuracy: 0.5825 - val_loss: 0.2449 - val_categorical_accuracy: 0.5799\n",
      "Epoch 132/200\n",
      "20/20 - 0s - loss: 0.2261 - categorical_accuracy: 0.5700 - val_loss: 0.2452 - val_categorical_accuracy: 0.5762\n",
      "Epoch 133/200\n",
      "20/20 - 0s - loss: 0.2265 - categorical_accuracy: 0.5925 - val_loss: 0.2436 - val_categorical_accuracy: 0.5688\n"
     ]
    },
    {
     "name": "stdout",
     "output_type": "stream",
     "text": [
      "Epoch 134/200\n",
      "20/20 - 0s - loss: 0.2251 - categorical_accuracy: 0.5750 - val_loss: 0.2434 - val_categorical_accuracy: 0.5836\n",
      "Epoch 135/200\n",
      "20/20 - 0s - loss: 0.2242 - categorical_accuracy: 0.5775 - val_loss: 0.2436 - val_categorical_accuracy: 0.5725\n",
      "Epoch 136/200\n",
      "20/20 - 0s - loss: 0.2232 - categorical_accuracy: 0.6000 - val_loss: 0.2430 - val_categorical_accuracy: 0.5725\n",
      "Epoch 137/200\n",
      "20/20 - 0s - loss: 0.2226 - categorical_accuracy: 0.5775 - val_loss: 0.2434 - val_categorical_accuracy: 0.6059\n",
      "Epoch 138/200\n",
      "20/20 - 0s - loss: 0.2231 - categorical_accuracy: 0.5850 - val_loss: 0.2432 - val_categorical_accuracy: 0.6022\n",
      "Epoch 139/200\n",
      "20/20 - 0s - loss: 0.2240 - categorical_accuracy: 0.6000 - val_loss: 0.2439 - val_categorical_accuracy: 0.5948\n",
      "Epoch 140/200\n",
      "20/20 - 0s - loss: 0.2224 - categorical_accuracy: 0.6025 - val_loss: 0.2441 - val_categorical_accuracy: 0.5725\n",
      "Epoch 141/200\n",
      "20/20 - 0s - loss: 0.2233 - categorical_accuracy: 0.5975 - val_loss: 0.2425 - val_categorical_accuracy: 0.5874\n",
      "Epoch 142/200\n",
      "20/20 - 0s - loss: 0.2231 - categorical_accuracy: 0.5775 - val_loss: 0.2425 - val_categorical_accuracy: 0.5688\n",
      "Epoch 143/200\n",
      "20/20 - 0s - loss: 0.2213 - categorical_accuracy: 0.5675 - val_loss: 0.2420 - val_categorical_accuracy: 0.5836\n",
      "Epoch 144/200\n",
      "20/20 - 0s - loss: 0.2208 - categorical_accuracy: 0.6125 - val_loss: 0.2459 - val_categorical_accuracy: 0.5576\n",
      "Epoch 145/200\n",
      "20/20 - 0s - loss: 0.2202 - categorical_accuracy: 0.5800 - val_loss: 0.2427 - val_categorical_accuracy: 0.5948\n",
      "Epoch 146/200\n",
      "20/20 - 0s - loss: 0.2197 - categorical_accuracy: 0.6100 - val_loss: 0.2418 - val_categorical_accuracy: 0.5836\n",
      "Epoch 147/200\n",
      "20/20 - 0s - loss: 0.2189 - categorical_accuracy: 0.6050 - val_loss: 0.2443 - val_categorical_accuracy: 0.5688\n",
      "Epoch 148/200\n",
      "20/20 - 0s - loss: 0.2201 - categorical_accuracy: 0.5975 - val_loss: 0.2435 - val_categorical_accuracy: 0.5836\n",
      "Epoch 149/200\n",
      "20/20 - 0s - loss: 0.2191 - categorical_accuracy: 0.5850 - val_loss: 0.2424 - val_categorical_accuracy: 0.5874\n",
      "Epoch 150/200\n",
      "20/20 - 0s - loss: 0.2187 - categorical_accuracy: 0.5875 - val_loss: 0.2416 - val_categorical_accuracy: 0.5762\n",
      "Epoch 151/200\n",
      "20/20 - 0s - loss: 0.2187 - categorical_accuracy: 0.5800 - val_loss: 0.2417 - val_categorical_accuracy: 0.5948\n",
      "Epoch 152/200\n",
      "20/20 - 0s - loss: 0.2176 - categorical_accuracy: 0.6000 - val_loss: 0.2435 - val_categorical_accuracy: 0.5874\n",
      "Epoch 153/200\n",
      "20/20 - 0s - loss: 0.2177 - categorical_accuracy: 0.5925 - val_loss: 0.2413 - val_categorical_accuracy: 0.6097\n",
      "Epoch 154/200\n",
      "20/20 - 0s - loss: 0.2172 - categorical_accuracy: 0.6000 - val_loss: 0.2422 - val_categorical_accuracy: 0.6059\n",
      "Epoch 155/200\n",
      "20/20 - 0s - loss: 0.2176 - categorical_accuracy: 0.5825 - val_loss: 0.2422 - val_categorical_accuracy: 0.5762\n",
      "Epoch 156/200\n",
      "20/20 - 0s - loss: 0.2170 - categorical_accuracy: 0.5975 - val_loss: 0.2413 - val_categorical_accuracy: 0.5725\n",
      "Epoch 157/200\n",
      "20/20 - 0s - loss: 0.2182 - categorical_accuracy: 0.6075 - val_loss: 0.2430 - val_categorical_accuracy: 0.5985\n",
      "Epoch 158/200\n",
      "20/20 - 0s - loss: 0.2163 - categorical_accuracy: 0.6025 - val_loss: 0.2409 - val_categorical_accuracy: 0.5948\n",
      "Epoch 159/200\n",
      "20/20 - 0s - loss: 0.2147 - categorical_accuracy: 0.6050 - val_loss: 0.2414 - val_categorical_accuracy: 0.5799\n",
      "Epoch 160/200\n",
      "20/20 - 0s - loss: 0.2146 - categorical_accuracy: 0.5875 - val_loss: 0.2406 - val_categorical_accuracy: 0.5836\n",
      "Epoch 161/200\n",
      "20/20 - 0s - loss: 0.2152 - categorical_accuracy: 0.6050 - val_loss: 0.2442 - val_categorical_accuracy: 0.5985\n",
      "Epoch 162/200\n",
      "20/20 - 0s - loss: 0.2158 - categorical_accuracy: 0.6125 - val_loss: 0.2440 - val_categorical_accuracy: 0.6059\n",
      "Epoch 163/200\n",
      "20/20 - 0s - loss: 0.2171 - categorical_accuracy: 0.5975 - val_loss: 0.2464 - val_categorical_accuracy: 0.6022\n",
      "Epoch 164/200\n",
      "20/20 - 0s - loss: 0.2151 - categorical_accuracy: 0.6225 - val_loss: 0.2409 - val_categorical_accuracy: 0.6097\n",
      "Epoch 165/200\n",
      "20/20 - 0s - loss: 0.2139 - categorical_accuracy: 0.6125 - val_loss: 0.2405 - val_categorical_accuracy: 0.5874\n",
      "Epoch 166/200\n",
      "20/20 - 0s - loss: 0.2122 - categorical_accuracy: 0.6300 - val_loss: 0.2396 - val_categorical_accuracy: 0.5911\n",
      "Epoch 167/200\n",
      "20/20 - 0s - loss: 0.2123 - categorical_accuracy: 0.6225 - val_loss: 0.2412 - val_categorical_accuracy: 0.6171\n",
      "Epoch 168/200\n",
      "20/20 - 0s - loss: 0.2129 - categorical_accuracy: 0.6025 - val_loss: 0.2401 - val_categorical_accuracy: 0.5874\n",
      "Epoch 169/200\n",
      "20/20 - 0s - loss: 0.2114 - categorical_accuracy: 0.6175 - val_loss: 0.2405 - val_categorical_accuracy: 0.5836\n",
      "Epoch 170/200\n",
      "20/20 - 0s - loss: 0.2132 - categorical_accuracy: 0.6025 - val_loss: 0.2403 - val_categorical_accuracy: 0.5762\n",
      "Epoch 171/200\n",
      "20/20 - 0s - loss: 0.2127 - categorical_accuracy: 0.6000 - val_loss: 0.2393 - val_categorical_accuracy: 0.5985\n",
      "Epoch 172/200\n",
      "20/20 - 0s - loss: 0.2100 - categorical_accuracy: 0.6350 - val_loss: 0.2412 - val_categorical_accuracy: 0.5762\n",
      "Epoch 173/200\n",
      "20/20 - 0s - loss: 0.2106 - categorical_accuracy: 0.5975 - val_loss: 0.2416 - val_categorical_accuracy: 0.5874\n",
      "Epoch 174/200\n",
      "20/20 - 0s - loss: 0.2125 - categorical_accuracy: 0.6050 - val_loss: 0.2399 - val_categorical_accuracy: 0.6245\n",
      "Epoch 175/200\n",
      "20/20 - 0s - loss: 0.2107 - categorical_accuracy: 0.6000 - val_loss: 0.2394 - val_categorical_accuracy: 0.6134\n",
      "Epoch 176/200\n",
      "20/20 - 0s - loss: 0.2097 - categorical_accuracy: 0.6050 - val_loss: 0.2386 - val_categorical_accuracy: 0.6022\n",
      "Epoch 177/200\n",
      "20/20 - 0s - loss: 0.2090 - categorical_accuracy: 0.6175 - val_loss: 0.2402 - val_categorical_accuracy: 0.6208\n",
      "Epoch 178/200\n",
      "20/20 - 0s - loss: 0.2108 - categorical_accuracy: 0.6100 - val_loss: 0.2423 - val_categorical_accuracy: 0.6134\n",
      "Epoch 179/200\n",
      "20/20 - 0s - loss: 0.2090 - categorical_accuracy: 0.5900 - val_loss: 0.2405 - val_categorical_accuracy: 0.5911\n",
      "Epoch 180/200\n",
      "20/20 - 0s - loss: 0.2101 - categorical_accuracy: 0.6150 - val_loss: 0.2392 - val_categorical_accuracy: 0.5836\n",
      "Epoch 181/200\n",
      "20/20 - 0s - loss: 0.2085 - categorical_accuracy: 0.6225 - val_loss: 0.2384 - val_categorical_accuracy: 0.6134\n",
      "Epoch 182/200\n",
      "20/20 - 0s - loss: 0.2073 - categorical_accuracy: 0.6250 - val_loss: 0.2389 - val_categorical_accuracy: 0.6134\n",
      "Epoch 183/200\n",
      "20/20 - 0s - loss: 0.2093 - categorical_accuracy: 0.6250 - val_loss: 0.2414 - val_categorical_accuracy: 0.6022\n",
      "Epoch 184/200\n",
      "20/20 - 0s - loss: 0.2090 - categorical_accuracy: 0.6125 - val_loss: 0.2384 - val_categorical_accuracy: 0.6022\n",
      "Epoch 185/200\n",
      "20/20 - 0s - loss: 0.2075 - categorical_accuracy: 0.6075 - val_loss: 0.2386 - val_categorical_accuracy: 0.5948\n",
      "Epoch 186/200\n",
      "20/20 - 0s - loss: 0.2087 - categorical_accuracy: 0.6200 - val_loss: 0.2414 - val_categorical_accuracy: 0.5799\n",
      "Epoch 187/200\n",
      "20/20 - 0s - loss: 0.2067 - categorical_accuracy: 0.6400 - val_loss: 0.2395 - val_categorical_accuracy: 0.6283\n",
      "Epoch 188/200\n",
      "20/20 - 0s - loss: 0.2072 - categorical_accuracy: 0.6200 - val_loss: 0.2384 - val_categorical_accuracy: 0.6357\n",
      "Epoch 189/200\n",
      "20/20 - 0s - loss: 0.2054 - categorical_accuracy: 0.6350 - val_loss: 0.2383 - val_categorical_accuracy: 0.6097\n",
      "Epoch 190/200\n",
      "20/20 - 0s - loss: 0.2049 - categorical_accuracy: 0.6400 - val_loss: 0.2386 - val_categorical_accuracy: 0.6431\n",
      "Epoch 191/200\n",
      "20/20 - 0s - loss: 0.2052 - categorical_accuracy: 0.6300 - val_loss: 0.2370 - val_categorical_accuracy: 0.6208\n",
      "Epoch 192/200\n",
      "20/20 - 0s - loss: 0.2053 - categorical_accuracy: 0.6025 - val_loss: 0.2393 - val_categorical_accuracy: 0.6283\n",
      "Epoch 193/200\n",
      "20/20 - 0s - loss: 0.2037 - categorical_accuracy: 0.6275 - val_loss: 0.2374 - val_categorical_accuracy: 0.6171\n",
      "Epoch 194/200\n",
      "20/20 - 0s - loss: 0.2026 - categorical_accuracy: 0.6425 - val_loss: 0.2383 - val_categorical_accuracy: 0.6245\n",
      "Epoch 195/200\n",
      "20/20 - 0s - loss: 0.2036 - categorical_accuracy: 0.6425 - val_loss: 0.2396 - val_categorical_accuracy: 0.6357\n",
      "Epoch 196/200\n",
      "20/20 - 0s - loss: 0.2058 - categorical_accuracy: 0.6000 - val_loss: 0.2367 - val_categorical_accuracy: 0.6245\n",
      "Epoch 197/200\n",
      "20/20 - 0s - loss: 0.2041 - categorical_accuracy: 0.6125 - val_loss: 0.2429 - val_categorical_accuracy: 0.5948\n",
      "Epoch 198/200\n",
      "20/20 - 0s - loss: 0.2035 - categorical_accuracy: 0.6375 - val_loss: 0.2402 - val_categorical_accuracy: 0.6208\n",
      "Epoch 199/200\n",
      "20/20 - 0s - loss: 0.2030 - categorical_accuracy: 0.6225 - val_loss: 0.2391 - val_categorical_accuracy: 0.6245\n"
     ]
    },
    {
     "name": "stdout",
     "output_type": "stream",
     "text": [
      "Epoch 200/200\n",
      "20/20 - 0s - loss: 0.2018 - categorical_accuracy: 0.6400 - val_loss: 0.2376 - val_categorical_accuracy: 0.6208\n"
     ]
    }
   ],
   "source": [
    "model2.compile(loss='binary_crossentropy', optimizer='adam', metrics=['categorical_accuracy'])\n",
    "model2.fit(X_train, y_train, validation_data=(X_test, y_test), epochs=200, batch_size=20, verbose=2)\n",
    "scores2 = model2.evaluate(X_test, y_test, verbose=0)\n",
    "prob2 = model2.predict(X_test)"
   ]
  },
  {
   "cell_type": "code",
   "execution_count": 57,
   "metadata": {},
   "outputs": [
    {
     "name": "stdout",
     "output_type": "stream",
     "text": [
      "Accuracy is: 0.620818\n"
     ]
    }
   ],
   "source": [
    "from sklearn.metrics import accuracy_score\n",
    "print('Accuracy is: %f' % accuracy_score(np.argmax(y_test,axis=-1), prob2.argmax(axis = 1)))"
   ]
  },
  {
   "cell_type": "markdown",
   "metadata": {},
   "source": [
    "## part 2\n",
    "\n",
    "Use the same datasets as in the Advanced NN lab and further train NN with different architectures"
   ]
  },
  {
   "cell_type": "markdown",
   "metadata": {},
   "source": [
    "## Task 1\n",
    "\n",
    "Try the facial recognition task from NN lab 2 with different model specifications and report model accuracy:\n",
    "1. Try different dropouts - 0.2, 0.3, 0.4\n",
    "2. Try different convolution windows: (3$\\times$3, 10$\\times$10)"
   ]
  },
  {
   "cell_type": "code",
   "execution_count": 65,
   "metadata": {},
   "outputs": [],
   "source": [
    "# load the data\n",
    "\n",
    "from sklearn.datasets import fetch_lfw_people \n",
    "from keras.datasets import mnist\n",
    "\n",
    "lfw_people = fetch_lfw_people(min_faces_per_person = 70, resize = 0.4) \n",
    "  \n",
    "# the images arrays to find the shapes (for plotting) \n",
    "n_samples, h, w = lfw_people.images.shape \n",
    "  \n",
    "# Instead of providing 2D data, X has data already in the form  of a vector that \n",
    "# is required in this approach. \n",
    "X = lfw_people.data \n",
    "n_features = X.shape[1] \n",
    "\n",
    "y = lfw_people.target \n",
    "target_names = lfw_people.target_names \n",
    "n_classes = target_names.shape[0] "
   ]
  },
  {
   "cell_type": "code",
   "execution_count": 66,
   "metadata": {},
   "outputs": [],
   "source": [
    "(X_train, y_train), (X_test, y_test) = mnist.load_data()"
   ]
  },
  {
   "cell_type": "code",
   "execution_count": 67,
   "metadata": {},
   "outputs": [
    {
     "data": {
      "text/plain": [
       "(60000, 28, 28)"
      ]
     },
     "execution_count": 67,
     "metadata": {},
     "output_type": "execute_result"
    }
   ],
   "source": [
    "X_train.shape"
   ]
  },
  {
   "cell_type": "code",
   "execution_count": 68,
   "metadata": {},
   "outputs": [
    {
     "data": {
      "text/plain": [
       "(60000,)"
      ]
     },
     "execution_count": 68,
     "metadata": {},
     "output_type": "execute_result"
    }
   ],
   "source": [
    "y_train.shape"
   ]
  },
  {
   "cell_type": "code",
   "execution_count": 69,
   "metadata": {},
   "outputs": [],
   "source": [
    "# Preprocess the NMIST data, but maintain datastructure for CNN.\n",
    "\n",
    "num_pixels = X_train.shape[1] * X_train.shape[2]\n",
    "X_train_pp = (X_train.reshape(X_train.shape[0], 28, 28, 1).astype('float32')) / 255\n",
    "X_test_pp = (X_test.reshape(X_test.shape[0], 28, 28, 1).astype('float32')) / 255\n",
    "\n",
    "\n",
    "# Keras needs the labels as categorical metrics.\n",
    "y_train_pp = np_utils.to_categorical(y_train)\n",
    "y_test_pp = np_utils.to_categorical(y_test)\n",
    "num_classes = y_test_pp.shape[1]"
   ]
  },
  {
   "cell_type": "code",
   "execution_count": 70,
   "metadata": {},
   "outputs": [
    {
     "name": "stdout",
     "output_type": "stream",
     "text": [
      "Epoch 1/5\n",
      "300/300 - 8s - loss: 0.2815 - accuracy: 0.9183 - val_loss: 0.1054 - val_accuracy: 0.9692\n",
      "Epoch 2/5\n",
      "300/300 - 8s - loss: 0.0924 - accuracy: 0.9734 - val_loss: 0.0741 - val_accuracy: 0.9761\n",
      "Epoch 3/5\n",
      "300/300 - 8s - loss: 0.0636 - accuracy: 0.9814 - val_loss: 0.0543 - val_accuracy: 0.9826\n",
      "Epoch 4/5\n",
      "300/300 - 9s - loss: 0.0482 - accuracy: 0.9855 - val_loss: 0.0500 - val_accuracy: 0.9830\n",
      "Epoch 5/5\n",
      "300/300 - 8s - loss: 0.0398 - accuracy: 0.9879 - val_loss: 0.0461 - val_accuracy: 0.9843\n"
     ]
    }
   ],
   "source": [
    "## model\n",
    "\n",
    "np.random.seed(1066)\n",
    "model = Sequential()\n",
    "model.add(Conv2D(32, (3, 3), input_shape=(28, 28, 1), activation='relu'))\n",
    "model.add(MaxPooling2D(pool_size=(2, 2)))\n",
    "\n",
    "\n",
    "model.add(Dropout(0.20))\n",
    "model.add(Flatten())\n",
    "model.add(Dense(128, activation='relu'))\n",
    "model.add(Dense(num_classes, activation='softmax'))\n",
    "\n",
    "# Compile, fit, and generate scores and predicted probabilities.\n",
    "model.compile(loss='categorical_crossentropy', optimizer='adam', metrics=['accuracy'])\n",
    "model.fit(X_train_pp, y_train_pp, validation_data=(X_test_pp, y_test_pp), epochs=5, batch_size=200, verbose=2)\n",
    "scores = model.evaluate(X_test_pp, y_test_pp, verbose=0)\n",
    "prob = model.predict(X_test_pp)"
   ]
  },
  {
   "cell_type": "code",
   "execution_count": 71,
   "metadata": {},
   "outputs": [
    {
     "name": "stdout",
     "output_type": "stream",
     "text": [
      "Epoch 1/5\n",
      "300/300 - 9s - loss: 0.2864 - accuracy: 0.9166 - val_loss: 0.1060 - val_accuracy: 0.9702\n",
      "Epoch 2/5\n",
      "300/300 - 9s - loss: 0.1028 - accuracy: 0.9695 - val_loss: 0.0685 - val_accuracy: 0.9780\n",
      "Epoch 3/5\n",
      "300/300 - 9s - loss: 0.0717 - accuracy: 0.9783 - val_loss: 0.0611 - val_accuracy: 0.9798\n",
      "Epoch 4/5\n",
      "300/300 - 8s - loss: 0.0565 - accuracy: 0.9831 - val_loss: 0.0470 - val_accuracy: 0.9833\n",
      "Epoch 5/5\n",
      "300/300 - 9s - loss: 0.0465 - accuracy: 0.9858 - val_loss: 0.0481 - val_accuracy: 0.9835\n"
     ]
    }
   ],
   "source": [
    "## model\n",
    "\n",
    "np.random.seed(1066)\n",
    "model = Sequential()\n",
    "model.add(Conv2D(32, (3, 3), input_shape=(28, 28, 1), activation='relu'))\n",
    "model.add(MaxPooling2D(pool_size=(2, 2)))\n",
    "\n",
    "\n",
    "model.add(Dropout(0.30))\n",
    "model.add(Flatten())\n",
    "model.add(Dense(128, activation='relu'))\n",
    "model.add(Dense(num_classes, activation='softmax'))\n",
    "\n",
    "# Compile, fit, and generate scores and predicted probabilities.\n",
    "model.compile(loss='categorical_crossentropy', optimizer='adam', metrics=['accuracy'])\n",
    "model.fit(X_train_pp, y_train_pp, validation_data=(X_test_pp, y_test_pp), epochs=5, batch_size=200, verbose=2)\n",
    "scores = model.evaluate(X_test_pp, y_test_pp, verbose=0)\n",
    "prob = model.predict(X_test_pp)"
   ]
  },
  {
   "cell_type": "code",
   "execution_count": 72,
   "metadata": {},
   "outputs": [
    {
     "name": "stdout",
     "output_type": "stream",
     "text": [
      "Epoch 1/5\n",
      "300/300 - 9s - loss: 0.2828 - accuracy: 0.9187 - val_loss: 0.1031 - val_accuracy: 0.9700\n",
      "Epoch 2/5\n",
      "300/300 - 9s - loss: 0.0992 - accuracy: 0.9704 - val_loss: 0.0672 - val_accuracy: 0.9782\n",
      "Epoch 3/5\n",
      "300/300 - 9s - loss: 0.0733 - accuracy: 0.9775 - val_loss: 0.0497 - val_accuracy: 0.9839\n",
      "Epoch 4/5\n",
      "300/300 - 9s - loss: 0.0583 - accuracy: 0.9822 - val_loss: 0.0450 - val_accuracy: 0.9837\n",
      "Epoch 5/5\n",
      "300/300 - 9s - loss: 0.0479 - accuracy: 0.9855 - val_loss: 0.0455 - val_accuracy: 0.9840\n"
     ]
    }
   ],
   "source": [
    "## model\n",
    "\n",
    "np.random.seed(1066)\n",
    "model = Sequential()\n",
    "model.add(Conv2D(32, (3, 3), input_shape=(28, 28, 1), activation='relu'))\n",
    "model.add(MaxPooling2D(pool_size=(2, 2)))\n",
    "\n",
    "\n",
    "model.add(Dropout(0.40))\n",
    "model.add(Flatten())\n",
    "model.add(Dense(128, activation='relu'))\n",
    "model.add(Dense(num_classes, activation='softmax'))\n",
    "\n",
    "# Compile, fit, and generate scores and predicted probabilities.\n",
    "model.compile(loss='categorical_crossentropy', optimizer='adam', metrics=['accuracy'])\n",
    "model.fit(X_train_pp, y_train_pp, validation_data=(X_test_pp, y_test_pp), epochs=5, batch_size=200, verbose=2)\n",
    "scores = model.evaluate(X_test_pp, y_test_pp, verbose=0)\n",
    "prob = model.predict(X_test_pp)"
   ]
  },
  {
   "cell_type": "code",
   "execution_count": 74,
   "metadata": {},
   "outputs": [
    {
     "name": "stdout",
     "output_type": "stream",
     "text": [
      "Epoch 1/5\n",
      "300/300 - 10s - loss: 0.2445 - accuracy: 0.9290 - val_loss: 0.0810 - val_accuracy: 0.9747\n",
      "Epoch 2/5\n",
      "300/300 - 9s - loss: 0.0738 - accuracy: 0.9781 - val_loss: 0.0496 - val_accuracy: 0.9845\n",
      "Epoch 3/5\n",
      "300/300 - 9s - loss: 0.0526 - accuracy: 0.9841 - val_loss: 0.0395 - val_accuracy: 0.9873\n",
      "Epoch 4/5\n",
      "300/300 - 9s - loss: 0.0410 - accuracy: 0.9872 - val_loss: 0.0366 - val_accuracy: 0.9875\n",
      "Epoch 5/5\n",
      "300/300 - 9s - loss: 0.0334 - accuracy: 0.9891 - val_loss: 0.0342 - val_accuracy: 0.9885\n"
     ]
    }
   ],
   "source": [
    "## model\n",
    "\n",
    "np.random.seed(1066)\n",
    "model = Sequential()\n",
    "model.add(Conv2D(32, (10, 10), input_shape=(28, 28, 1), activation='relu'))\n",
    "model.add(MaxPooling2D(pool_size=(2, 2)))\n",
    "\n",
    "\n",
    "model.add(Dropout(0.20))\n",
    "model.add(Flatten())\n",
    "model.add(Dense(128, activation='relu'))\n",
    "model.add(Dense(num_classes, activation='softmax'))\n",
    "\n",
    "# Compile, fit, and generate scores and predicted probabilities.\n",
    "model.compile(loss='categorical_crossentropy', optimizer='adam', metrics=['accuracy'])\n",
    "model.fit(X_train_pp, y_train_pp, validation_data=(X_test_pp, y_test_pp), epochs=5, batch_size=200, verbose=2)\n",
    "scores = model.evaluate(X_test_pp, y_test_pp, verbose=0)\n",
    "prob = model.predict(X_test_pp)"
   ]
  },
  {
   "cell_type": "code",
   "execution_count": 73,
   "metadata": {},
   "outputs": [
    {
     "name": "stdout",
     "output_type": "stream",
     "text": [
      "Epoch 1/5\n",
      "300/300 - 10s - loss: 0.2544 - accuracy: 0.9257 - val_loss: 0.0755 - val_accuracy: 0.9767\n",
      "Epoch 2/5\n",
      "300/300 - 9s - loss: 0.0775 - accuracy: 0.9768 - val_loss: 0.0627 - val_accuracy: 0.9795\n",
      "Epoch 3/5\n",
      "300/300 - 9s - loss: 0.0565 - accuracy: 0.9820 - val_loss: 0.0417 - val_accuracy: 0.9868\n",
      "Epoch 4/5\n",
      "300/300 - 9s - loss: 0.0436 - accuracy: 0.9867 - val_loss: 0.0373 - val_accuracy: 0.9879\n",
      "Epoch 5/5\n",
      "300/300 - 9s - loss: 0.0371 - accuracy: 0.9885 - val_loss: 0.0343 - val_accuracy: 0.9885\n"
     ]
    }
   ],
   "source": [
    "## model\n",
    "\n",
    "np.random.seed(1066)\n",
    "model = Sequential()\n",
    "model.add(Conv2D(32, (10, 10), input_shape=(28, 28, 1), activation='relu'))\n",
    "model.add(MaxPooling2D(pool_size=(2, 2)))\n",
    "\n",
    "\n",
    "model.add(Dropout(0.30))\n",
    "model.add(Flatten())\n",
    "model.add(Dense(128, activation='relu'))\n",
    "model.add(Dense(num_classes, activation='softmax'))\n",
    "\n",
    "# Compile, fit, and generate scores and predicted probabilities.\n",
    "model.compile(loss='categorical_crossentropy', optimizer='adam', metrics=['accuracy'])\n",
    "model.fit(X_train_pp, y_train_pp, validation_data=(X_test_pp, y_test_pp), epochs=5, batch_size=200, verbose=2)\n",
    "scores = model.evaluate(X_test_pp, y_test_pp, verbose=0)\n",
    "prob = model.predict(X_test_pp)"
   ]
  },
  {
   "cell_type": "code",
   "execution_count": 75,
   "metadata": {},
   "outputs": [
    {
     "name": "stdout",
     "output_type": "stream",
     "text": [
      "Epoch 1/5\n",
      "300/300 - 10s - loss: 0.2519 - accuracy: 0.9268 - val_loss: 0.0693 - val_accuracy: 0.9797\n",
      "Epoch 2/5\n",
      "300/300 - 10s - loss: 0.0780 - accuracy: 0.9759 - val_loss: 0.0512 - val_accuracy: 0.9833\n",
      "Epoch 3/5\n",
      "300/300 - 10s - loss: 0.0566 - accuracy: 0.9829 - val_loss: 0.0344 - val_accuracy: 0.9891\n",
      "Epoch 4/5\n",
      "300/300 - 10s - loss: 0.0462 - accuracy: 0.9854 - val_loss: 0.0349 - val_accuracy: 0.9885\n",
      "Epoch 5/5\n",
      "300/300 - 10s - loss: 0.0378 - accuracy: 0.9877 - val_loss: 0.0295 - val_accuracy: 0.9898\n"
     ]
    }
   ],
   "source": [
    "## model\n",
    "\n",
    "np.random.seed(1066)\n",
    "model = Sequential()\n",
    "model.add(Conv2D(32, (10, 10), input_shape=(28, 28, 1), activation='relu'))\n",
    "model.add(MaxPooling2D(pool_size=(2, 2)))\n",
    "\n",
    "\n",
    "model.add(Dropout(0.40))\n",
    "model.add(Flatten())\n",
    "model.add(Dense(128, activation='relu'))\n",
    "model.add(Dense(num_classes, activation='softmax'))\n",
    "\n",
    "# Compile, fit, and generate scores and predicted probabilities.\n",
    "model.compile(loss='categorical_crossentropy', optimizer='adam', metrics=['accuracy'])\n",
    "model.fit(X_train_pp, y_train_pp, validation_data=(X_test_pp, y_test_pp), epochs=5, batch_size=200, verbose=2)\n",
    "scores = model.evaluate(X_test_pp, y_test_pp, verbose=0)\n",
    "prob = model.predict(X_test_pp)"
   ]
  },
  {
   "cell_type": "markdown",
   "metadata": {},
   "source": [
    "## Task 2\n",
    "\n",
    "1. Try different word count in the next-word prediction task with a)8 and b)12 previous words and report accuracy for each. Use the same Sherlock data.\n",
    "\n",
    "2. Try different LSTM architectures and comment on model performace for each. \n",
    "    - Add a dropout layer with 0.25\n",
    "    - Change number of neurons to a) 64 b) 256 neurons\n",
    "    \n",
    "    Train for 10 epochs "
   ]
  },
  {
   "cell_type": "code",
   "execution_count": 18,
   "metadata": {},
   "outputs": [
    {
     "name": "stdout",
     "output_type": "stream",
     "text": [
      "corpus length: 581889\n"
     ]
    }
   ],
   "source": [
    "path = 'sherlock.txt'\n",
    "text = open(path).read().lower()\n",
    "print('corpus length:', len(text))"
   ]
  },
  {
   "cell_type": "markdown",
   "metadata": {},
   "source": [
    "1.Try different word count in the next-word prediction task with a)8 and b)12 previous words and report accuracy for each. Use the same Sherlock data."
   ]
  },
  {
   "cell_type": "code",
   "execution_count": 85,
   "metadata": {},
   "outputs": [],
   "source": [
    "tokenizer = RegexpTokenizer(r'\\w+')\n",
    "words = tokenizer.tokenize(text)"
   ]
  },
  {
   "cell_type": "code",
   "execution_count": 86,
   "metadata": {},
   "outputs": [],
   "source": [
    "# unique sorted words list\n",
    "unique_words = np.unique(words)\n",
    "\n",
    "# dictionary(<key: value>) with each word form the unique_words list as key and its corresponding position as value.\n",
    "unique_word_index = dict((c, i) for i, c in enumerate(unique_words))"
   ]
  },
  {
   "cell_type": "code",
   "execution_count": 87,
   "metadata": {},
   "outputs": [
    {
     "name": "stdout",
     "output_type": "stream",
     "text": [
      "sequence: ['of', 'twenty', 'one', 'years', 'are', 'eligible', 'apply', 'in']\n",
      "next word in sequence: person\n"
     ]
    }
   ],
   "source": [
    "WORD_LENGTH = 8\n",
    "prev_words = []\n",
    "next_words = []\n",
    "for i in range(len(words) - WORD_LENGTH):\n",
    "    prev_words.append(words[i:i + WORD_LENGTH])\n",
    "    next_words.append(words[i + WORD_LENGTH])\n",
    "print('sequence:', prev_words[10101])\n",
    "print('next word in sequence:', next_words[10101])"
   ]
  },
  {
   "cell_type": "code",
   "execution_count": 88,
   "metadata": {},
   "outputs": [],
   "source": [
    "X = np.zeros((len(prev_words), WORD_LENGTH, len(unique_words)), dtype=bool)\n",
    "Y = np.zeros((len(next_words), len(unique_words)), dtype=bool)\n",
    "for i, each_words in enumerate(prev_words):\n",
    "    for j, each_word in enumerate(each_words):\n",
    "        X[i, j, unique_word_index[each_word]] = 1\n",
    "    Y[i, unique_word_index[next_words[i]]] = 1"
   ]
  },
  {
   "cell_type": "code",
   "execution_count": 89,
   "metadata": {},
   "outputs": [
    {
     "data": {
      "text/plain": [
       "(8, 8201)"
      ]
     },
     "execution_count": 89,
     "metadata": {},
     "output_type": "execute_result"
    }
   ],
   "source": [
    "X[0].shape"
   ]
  },
  {
   "cell_type": "code",
   "execution_count": 131,
   "metadata": {},
   "outputs": [],
   "source": [
    "model3 = Sequential()\n",
    "model3.add(LSTM(128, input_shape=(WORD_LENGTH, len(unique_words))))\n",
    "model3.add(Dense(len(unique_words)))\n",
    "model3.add(Activation('softmax'))"
   ]
  },
  {
   "cell_type": "code",
   "execution_count": 132,
   "metadata": {},
   "outputs": [
    {
     "name": "stdout",
     "output_type": "stream",
     "text": [
      "Epoch 1/2\n",
      "811/811 [==============================] - 205s 252ms/step - loss: 6.3345 - accuracy: 0.0831 - val_loss: 7.0238 - val_accuracy: 0.0992\n",
      "Epoch 2/2\n",
      "811/811 [==============================] - 217s 268ms/step - loss: 5.6421 - accuracy: 0.1474 - val_loss: 7.7877 - val_accuracy: 0.0972\n"
     ]
    }
   ],
   "source": [
    "# training - just 2 epochs - should take around 5-7 mins for 2 epochs\n",
    "\n",
    "np.random.seed(2002)\n",
    "optimizer = RMSprop(lr=0.01)\n",
    "model3.compile(loss='categorical_crossentropy', optimizer=optimizer, metrics=['accuracy'])\n",
    "history = model3.fit(X, Y, validation_split=0.05, batch_size=128, epochs=2, shuffle=True).history"
   ]
  },
  {
   "cell_type": "code",
   "execution_count": 97,
   "metadata": {},
   "outputs": [
    {
     "name": "stdout",
     "output_type": "stream",
     "text": [
      "sequence: ['of', 'twenty', 'one', 'years', 'are', 'eligible', 'apply', 'in', 'person', 'on', 'monday', 'at']\n",
      "next word in sequence: eleven\n"
     ]
    }
   ],
   "source": [
    "WORD_LENGTH = 12\n",
    "prev_words = []\n",
    "next_words = []\n",
    "for i in range(len(words) - WORD_LENGTH):\n",
    "    prev_words.append(words[i:i + WORD_LENGTH])\n",
    "    next_words.append(words[i + WORD_LENGTH])\n",
    "print('sequence:', prev_words[10101])\n",
    "print('next word in sequence:', next_words[10101])"
   ]
  },
  {
   "cell_type": "code",
   "execution_count": 98,
   "metadata": {},
   "outputs": [],
   "source": [
    "X = np.zeros((len(prev_words), WORD_LENGTH, len(unique_words)), dtype=bool)\n",
    "Y = np.zeros((len(next_words), len(unique_words)), dtype=bool)\n",
    "for i, each_words in enumerate(prev_words):\n",
    "    for j, each_word in enumerate(each_words):\n",
    "        X[i, j, unique_word_index[each_word]] = 1\n",
    "    Y[i, unique_word_index[next_words[i]]] = 1"
   ]
  },
  {
   "cell_type": "code",
   "execution_count": 99,
   "metadata": {},
   "outputs": [
    {
     "data": {
      "text/plain": [
       "(12, 8201)"
      ]
     },
     "execution_count": 99,
     "metadata": {},
     "output_type": "execute_result"
    }
   ],
   "source": [
    "X[0].shape"
   ]
  },
  {
   "cell_type": "code",
   "execution_count": 100,
   "metadata": {},
   "outputs": [],
   "source": [
    "model4 = Sequential()\n",
    "model4.add(LSTM(128, input_shape=(WORD_LENGTH, len(unique_words))))\n",
    "model4.add(Dense(len(unique_words)))\n",
    "model4.add(Activation('softmax'))"
   ]
  },
  {
   "cell_type": "code",
   "execution_count": 101,
   "metadata": {},
   "outputs": [
    {
     "name": "stdout",
     "output_type": "stream",
     "text": [
      "Epoch 1/2\n",
      "811/811 [==============================] - 210s 256ms/step - loss: 6.3177 - accuracy: 0.0831 - val_loss: 7.0741 - val_accuracy: 0.1027\n",
      "Epoch 2/2\n",
      "811/811 [==============================] - 216s 267ms/step - loss: 5.6304 - accuracy: 0.1486 - val_loss: 7.9565 - val_accuracy: 0.1082\n"
     ]
    }
   ],
   "source": [
    "# training - just 2 epochs - should take around 5-7 mins for 2 epochs\n",
    "\n",
    "np.random.seed(2002)\n",
    "optimizer = RMSprop(lr=0.01)\n",
    "model4.compile(loss='categorical_crossentropy', optimizer=optimizer, metrics=['accuracy'])\n",
    "history = model4.fit(X, Y, validation_split=0.05, batch_size=128, epochs=2, shuffle=True).history"
   ]
  },
  {
   "cell_type": "markdown",
   "metadata": {},
   "source": [
    "Part 2 Try different LSTM architectures and comment on model performace for each.\n",
    "Add a dropout layer with 0.25\n",
    "Change number of neurons to a) 64 b) 256 neurons\n",
    "Train for 10 epochs"
   ]
  },
  {
   "cell_type": "code",
   "execution_count": 122,
   "metadata": {},
   "outputs": [],
   "source": [
    "# Preprocess the NMIST data, but maintain datastructure for CNN.\n",
    "\n",
    "num_pixels = X_train.shape[1] * X_train.shape[2]\n",
    "X_train_pp = (X_train.reshape(X_train.shape[0], 28, 28, 1).astype('float32')) / 255\n",
    "X_test_pp = (X_test.reshape(X_test.shape[0], 28, 28, 1).astype('float32')) / 255\n",
    "\n",
    "\n",
    "# Keras needs the labels as categorical metrics.\n",
    "y_train_pp = np_utils.to_categorical(y_train)\n",
    "y_test_pp = np_utils.to_categorical(y_test)\n",
    "num_classes = y_test_pp.shape[1]"
   ]
  },
  {
   "cell_type": "code",
   "execution_count": 123,
   "metadata": {},
   "outputs": [
    {
     "name": "stdout",
     "output_type": "stream",
     "text": [
      "Epoch 1/10\n",
      "300/300 - 10s - loss: 0.2752 - accuracy: 0.9239 - val_loss: 0.0954 - val_accuracy: 0.9698\n",
      "Epoch 2/10\n",
      "300/300 - 10s - loss: 0.0862 - accuracy: 0.9746 - val_loss: 0.0536 - val_accuracy: 0.9827\n",
      "Epoch 3/10\n",
      "300/300 - 9s - loss: 0.0616 - accuracy: 0.9814 - val_loss: 0.0483 - val_accuracy: 0.9843\n",
      "Epoch 4/10\n",
      "300/300 - 9s - loss: 0.0496 - accuracy: 0.9844 - val_loss: 0.0403 - val_accuracy: 0.9856\n",
      "Epoch 5/10\n",
      "300/300 - 10s - loss: 0.0422 - accuracy: 0.9870 - val_loss: 0.0442 - val_accuracy: 0.9850\n",
      "Epoch 6/10\n",
      "300/300 - 10s - loss: 0.0379 - accuracy: 0.9876 - val_loss: 0.0401 - val_accuracy: 0.9862\n",
      "Epoch 7/10\n",
      "300/300 - 10s - loss: 0.0317 - accuracy: 0.9903 - val_loss: 0.0311 - val_accuracy: 0.9884\n",
      "Epoch 8/10\n",
      "300/300 - 10s - loss: 0.0289 - accuracy: 0.9911 - val_loss: 0.0350 - val_accuracy: 0.9884\n",
      "Epoch 9/10\n",
      "300/300 - 10s - loss: 0.0254 - accuracy: 0.9919 - val_loss: 0.0312 - val_accuracy: 0.9901\n",
      "Epoch 10/10\n",
      "300/300 - 10s - loss: 0.0217 - accuracy: 0.9931 - val_loss: 0.0314 - val_accuracy: 0.9899\n"
     ]
    }
   ],
   "source": [
    "## model\n",
    "\n",
    "np.random.seed(1066)\n",
    "model5 = Sequential()\n",
    "model5.add(Conv2D(32, (5, 5), input_shape=(28, 28, 1), activation='relu'))\n",
    "model5.add(MaxPooling2D(pool_size=(2, 2)))\n",
    "\n",
    "\n",
    "model5.add(Dropout(0.25))\n",
    "model5.add(Flatten())\n",
    "model5.add(Dense(64, activation='relu'))\n",
    "model5.add(Dense(num_classes, activation='softmax'))\n",
    "\n",
    "# Compile, fit, and generate scores and predicted probabilities.\n",
    "model5.compile(loss='categorical_crossentropy', optimizer='adam', metrics=['accuracy'])\n",
    "model5.fit(X_train_pp, y_train_pp, validation_data=(X_test_pp, y_test_pp), epochs=10, batch_size=200, verbose=2)\n",
    "scores = model.evaluate(X_test_pp, y_test_pp, verbose=0)\n",
    "prob = model.predict(X_test_pp)"
   ]
  },
  {
   "cell_type": "code",
   "execution_count": 128,
   "metadata": {},
   "outputs": [
    {
     "data": {
      "text/plain": [
       "0.9899"
      ]
     },
     "execution_count": 128,
     "metadata": {},
     "output_type": "execute_result"
    }
   ],
   "source": [
    "accuracy_score(y_test, model5.predict_classes(X_test_pp))"
   ]
  },
  {
   "cell_type": "code",
   "execution_count": 120,
   "metadata": {},
   "outputs": [
    {
     "name": "stdout",
     "output_type": "stream",
     "text": [
      "Epoch 1/10\n",
      "300/300 - 9s - loss: 0.2184 - accuracy: 0.9361 - val_loss: 0.0666 - val_accuracy: 0.9799\n",
      "Epoch 2/10\n",
      "300/300 - 9s - loss: 0.0676 - accuracy: 0.9790 - val_loss: 0.0484 - val_accuracy: 0.9850\n",
      "Epoch 3/10\n",
      "300/300 - 9s - loss: 0.0461 - accuracy: 0.9859 - val_loss: 0.0348 - val_accuracy: 0.9882\n",
      "Epoch 4/10\n",
      "300/300 - 9s - loss: 0.0372 - accuracy: 0.9885 - val_loss: 0.0336 - val_accuracy: 0.9879\n",
      "Epoch 5/10\n",
      "300/300 - 9s - loss: 0.0280 - accuracy: 0.9909 - val_loss: 0.0296 - val_accuracy: 0.9900\n",
      "Epoch 6/10\n",
      "300/300 - 9s - loss: 0.0228 - accuracy: 0.9927 - val_loss: 0.0307 - val_accuracy: 0.9885\n",
      "Epoch 7/10\n",
      "300/300 - 10s - loss: 0.0198 - accuracy: 0.9936 - val_loss: 0.0296 - val_accuracy: 0.9898\n",
      "Epoch 8/10\n",
      "300/300 - 10s - loss: 0.0164 - accuracy: 0.9948 - val_loss: 0.0324 - val_accuracy: 0.9893\n",
      "Epoch 9/10\n",
      "300/300 - 10s - loss: 0.0131 - accuracy: 0.9958 - val_loss: 0.0283 - val_accuracy: 0.9907\n",
      "Epoch 10/10\n",
      "300/300 - 11s - loss: 0.0120 - accuracy: 0.9960 - val_loss: 0.0318 - val_accuracy: 0.9895\n"
     ]
    }
   ],
   "source": [
    "## model\n",
    "\n",
    "np.random.seed(1066)\n",
    "model6 = Sequential()\n",
    "model6.add(Conv2D(32, (5, 5), input_shape=(28, 28, 1), activation='relu'))\n",
    "model6.add(MaxPooling2D(pool_size=(2, 2)))\n",
    "\n",
    "\n",
    "model6.add(Dropout(0.25))\n",
    "model6.add(Flatten())\n",
    "model6.add(Dense(256, activation='relu'))\n",
    "model6.add(Dense(num_classes, activation='softmax'))\n",
    "\n",
    "# Compile, fit, and generate scores and predicted probabilities.\n",
    "model6.compile(loss='categorical_crossentropy', optimizer='adam', metrics=['accuracy'])\n",
    "model6.fit(X_train_pp, y_train_pp, validation_data=(X_test_pp, y_test_pp), epochs=10, batch_size=200, verbose=2)\n",
    "scores = model.evaluate(X_test_pp, y_test_pp, verbose=0)\n",
    "prob = model.predict(X_test_pp)"
   ]
  },
  {
   "cell_type": "code",
   "execution_count": 127,
   "metadata": {},
   "outputs": [
    {
     "data": {
      "text/plain": [
       "0.9895"
      ]
     },
     "execution_count": 127,
     "metadata": {},
     "output_type": "execute_result"
    }
   ],
   "source": [
    "accuracy_score(y_test, model6.predict_classes(X_test_pp))"
   ]
  },
  {
   "cell_type": "code",
   "execution_count": 129,
   "metadata": {},
   "outputs": [],
   "source": [
    "#comment on both models: Accuracy decreased very slightly"
   ]
  },
  {
   "cell_type": "code",
   "execution_count": null,
   "metadata": {},
   "outputs": [],
   "source": []
  }
 ],
 "metadata": {
  "kernelspec": {
   "display_name": "Python 3",
   "language": "python",
   "name": "python3"
  },
  "language_info": {
   "codemirror_mode": {
    "name": "ipython",
    "version": 3
   },
   "file_extension": ".py",
   "mimetype": "text/x-python",
   "name": "python",
   "nbconvert_exporter": "python",
   "pygments_lexer": "ipython3",
   "version": "3.8.5"
  }
 },
 "nbformat": 4,
 "nbformat_minor": 4
}
